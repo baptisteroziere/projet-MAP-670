{
 "cells": [
  {
   "cell_type": "code",
   "execution_count": 1,
   "metadata": {
    "collapsed": true
   },
   "outputs": [],
   "source": [
    "import sklearn\n",
    "import numpy as np\n",
    "import scipy\n",
    "import csv\n",
    "\n",
    "def load_sparse_csr(filename):\n",
    "    loader = np.load(filename)\n",
    "    return scipy.sparse.csr_matrix(( loader['data'], loader['indices'], loader['indptr']),\n",
    "                     shape = loader['shape'])\n",
    "        \n",
    "def load_csv(filename):\n",
    "    with open(filename, 'r') as csvfile:\n",
    "        reader = csv.reader(csvfile, delimiter = '\\n')\n",
    "        array = [float(row[0]) for row in reader]\n",
    "        return array"
   ]
  },
  {
   "cell_type": "code",
   "execution_count": 2,
   "metadata": {
    "collapsed": false
   },
   "outputs": [],
   "source": [
    "data_train = load_sparse_csr('DB_no_cleaning/data_train_no_feat.npz')\n",
    "data_test = load_sparse_csr('DB_no_cleaning/data_test_no_feat.npz')"
   ]
  },
  {
   "cell_type": "code",
   "execution_count": 3,
   "metadata": {
    "collapsed": false
   },
   "outputs": [],
   "source": [
    "label_train = load_csv('DB_no_cleaning/label_train_no_feat.csv')\n",
    "label_test = load_csv('DB_no_cleaning/label_test_no_feat.csv')"
   ]
  },
  {
   "cell_type": "code",
   "execution_count": 4,
   "metadata": {
    "collapsed": true
   },
   "outputs": [],
   "source": [
    "def score(true_label, predicted_label):\n",
    "    length = len(true_label)\n",
    "    total = 0\n",
    "    for i, label in enumerate(true_label):\n",
    "        if label == predicted_label[i]:\n",
    "            total += 1\n",
    "    return float(total)/float(length)"
   ]
  },
  {
   "cell_type": "code",
   "execution_count": 5,
   "metadata": {
    "collapsed": false
   },
   "outputs": [
    {
     "name": "stdout",
     "output_type": "stream",
     "text": [
      "('Random Forest - Score on test_data : ', 0.81248)\n"
     ]
    }
   ],
   "source": [
    "from sklearn import cross_validation\n",
    "from sklearn.ensemble import RandomForestClassifier\n",
    "\n",
    "# n_estimators is the number of trees we want to make (higher is generally better)\n",
    "# min_samples_split is tfnhe minimum number of rows we need to make a split\n",
    "# min_samples_leaf is the minimum number of samples we can have at the place where a tree branch ends (the bottom points of the tree)\n",
    "alg = RandomForestClassifier(random_state=1, n_estimators=30, min_samples_split=2, min_samples_leaf=1)\n",
    "alg.fit(data_train, label_train)\n",
    "predicted_label = alg.predict(data_test)\n",
    "\n",
    "\n",
    "#scores = cross_validation.cross_val_score(alg, data_train, label_train, cv=5)\n",
    "#print(\"Random Forest - Mean score on cross val\", scores.mean())\n",
    "print(\"Random Forest - Score on test_data : \", score(label_test, predicted_label))"
   ]
  },
  {
   "cell_type": "code",
   "execution_count": 7,
   "metadata": {
    "collapsed": false
   },
   "outputs": [
    {
     "data": {
      "text/plain": [
       "\"import matplotlib.pyplot as plt\\nalg.fit(data_train, label_train)\\n#Plot feature importance\\nfeature_importance = alg.feature_importances_\\n# make importances relative to max importance\\nfeature_importance = 100.0 * (feature_importance / feature_importance.max())\\nsorted_idx = np.argsort(feature_importance)\\npos = np.arange(sorted_idx.shape[0]) + .5\\nplt.subplot(1, 2, 2)\\nplt.barh(pos, feature_importance[sorted_idx], align='center')\\nplt.yticks(pos)\\nplt.xlabel('Relative Importance')\\nplt.title('Variable Importance')\\nplt.show()\""
      ]
     },
     "execution_count": 7,
     "metadata": {},
     "output_type": "execute_result"
    }
   ],
   "source": [
    "\"\"\"import matplotlib.pyplot as plt\n",
    "alg.fit(data_train, label_train)\n",
    "#Plot feature importance\n",
    "feature_importance = alg.feature_importances_\n",
    "# make importances relative to max importance\n",
    "feature_importance = 100.0 * (feature_importance / feature_importance.max())\n",
    "sorted_idx = np.argsort(feature_importance)\n",
    "pos = np.arange(sorted_idx.shape[0]) + .5\n",
    "plt.subplot(1, 2, 2)\n",
    "plt.barh(pos, feature_importance[sorted_idx], align='center')\n",
    "plt.yticks(pos)\n",
    "plt.xlabel('Relative Importance')\n",
    "plt.title('Variable Importance')\n",
    "plt.show()\"\"\""
   ]
  },
  {
   "cell_type": "code",
   "execution_count": 8,
   "metadata": {
    "collapsed": false
   },
   "outputs": [
    {
     "name": "stderr",
     "output_type": "stream",
     "text": [
      "/home/bat/anaconda2/lib/python2.7/site-packages/sklearn/ensemble/forest.py:267: UserWarning: Warm-start fitting without increasing n_estimators does not fit new trees.\n",
      "  warn(\"Warm-start fitting without increasing n_estimators does not \"\n"
     ]
    },
    {
     "data": {
      "text/plain": [
       "array([ 0.,  0.,  0., ...,  0.,  0.,  0.])"
      ]
     },
     "execution_count": 8,
     "metadata": {},
     "output_type": "execute_result"
    }
   ],
   "source": [
    "alg.fit(data_train, label_train)\n",
    "alg.feature_importances_"
   ]
  },
  {
   "cell_type": "code",
   "execution_count": 9,
   "metadata": {
    "collapsed": false
   },
   "outputs": [],
   "source": [
    "#[i  for i in range(len(alg.feature_importances_)) if alg.feature_importances_[i]>0.01]"
   ]
  },
  {
   "cell_type": "code",
   "execution_count": 10,
   "metadata": {
    "collapsed": false
   },
   "outputs": [
    {
     "name": "stdout",
     "output_type": "stream",
     "text": [
      "[ 0.00799602  0.00678455  0.00393853  0.0031856   0.002951    0.00281542\n",
      "  0.0026979   0.00264985  0.00207746  0.00202144]\n"
     ]
    }
   ],
   "source": [
    "feature_importances = alg.feature_importances_\n",
    "sorted_idx = np.argsort(feature_importances)[::-1]\n",
    "print alg.feature_importances_[sorted_idx[0:10]]"
   ]
  },
  {
   "cell_type": "code",
   "execution_count": 11,
   "metadata": {
    "collapsed": true
   },
   "outputs": [],
   "source": [
    "nb_best_features = 100\n",
    "best_features = alg.feature_importances_[sorted_idx[0:nb_best_features]]"
   ]
  },
  {
   "cell_type": "code",
   "execution_count": 12,
   "metadata": {
    "collapsed": false
   },
   "outputs": [
    {
     "name": "stdout",
     "output_type": "stream",
     "text": [
      "['worst\\n', 'bad\\n', 'waste\\n', 'inter\\n', 'stupid\\n', 'great\\n', 'terrible\\n', 'worse\\n', 'love\\n', 'even\\n', 'awful\\n', 'supposed\\n', 'boring\\n', 'best\\n', 'crap\\n', 'amazing\\n', 'plot\\n', 'one best\\n', 'movie\\n', 'nothing\\n', 'ridiculous\\n', 'excellent\\n', 'could\\n', 'don\\n', 'wonderful\\n', 'minutes\\n', 'would\\n', 'fantastic\\n', 'avoid\\n', 'like\\n', 'horrible\\n', 'that\\n', 'susp\\n', 'waste time\\n', 'least\\n', 'dull\\n', 'well\\n', 'also\\n', 'didn\\n', 'rev_length\\n', 'it\\n', 'there\\n', 'young\\n', 'mess\\n', 'what\\n', 'save\\n', 'one worst\\n', 'no\\n', 'poorly\\n', 'money\\n', 'badly\\n', 'acting\\n', 'laughable\\n', 'watching\\n', '10 10\\n', 'instead\\n', 'lame\\n', 'better\\n', 'something\\n', 'unfortunately\\n', 'cheap\\n', 'perfect\\n', 'make\\n', 'highly\\n', 'budget\\n', 'story\\n', 'idea\\n', 'today\\n', 'performances\\n', 'the\\n', 'fun\\n', 'unless\\n', 'good\\n', 'really bad\\n', 'script\\n', 'wasn\\n', 'always\\n', 'still\\n', 'the acting\\n', 'one\\n', 'enjoy\\n', 'decent\\n', 'poor\\n', 'predictable\\n', 'doesn\\n', 'director\\n', 'not\\n', 'guy\\n', 'hour\\n', 'especially\\n', 'horror\\n', 'beautiful\\n', 'annoying\\n', 'reason\\n', 'film\\n', 'touching\\n', 'really\\n', 'pathetic\\n', 'and\\n', 'everyone\\n']\n"
     ]
    }
   ],
   "source": [
    "feature_names = open(\"feature_names.csv\")\n",
    "feature_name = [line for line in feature_names]\n",
    "print [feature_name[i] for i in sorted_idx[0:nb_best_features]]"
   ]
  },
  {
   "cell_type": "code",
   "execution_count": 15,
   "metadata": {
    "collapsed": true
   },
   "outputs": [],
   "source": [
    "import csv\n",
    "\n",
    "def save_sparse_csr(filename, array):\n",
    "    np.savez(filename, data = array.data, indices = array.indices, \n",
    "             indptr = array.indptr, shape = array.shape)"
   ]
  },
  {
   "cell_type": "code",
   "execution_count": 19,
   "metadata": {
    "collapsed": false
   },
   "outputs": [],
   "source": [
    "save_sparse_csr (\"data_train_best\",data_train[:,sorted_idx[0:20000]])\n",
    "save_sparse_csr (\"data_test_best\",data_test[:,sorted_idx[0:20000]])"
   ]
  },
  {
   "cell_type": "code",
   "execution_count": 46,
   "metadata": {
    "collapsed": false
   },
   "outputs": [
    {
     "data": {
      "text/plain": [
       "1.0000000000000002"
      ]
     },
     "execution_count": 46,
     "metadata": {},
     "output_type": "execute_result"
    }
   ],
   "source": [
    "feature_importances[sorted_idx]"
   ]
  },
  {
   "cell_type": "code",
   "execution_count": 47,
   "metadata": {
    "collapsed": false
   },
   "outputs": [
    {
     "name": "stdout",
     "output_type": "stream",
     "text": [
      "0 0\n",
      "100 0.134542040572\n",
      "200 0.189738505709\n",
      "300 0.230161031742\n",
      "400 0.261708347002\n",
      "500 0.288270163265\n",
      "600 0.311308750446\n",
      "700 0.331840461978\n",
      "800 0.350312396179\n",
      "900 0.367046075459\n",
      "1000 0.382303122306\n",
      "1100 0.396295845517\n",
      "1200 0.409136000126\n",
      "1300 0.420813359649\n",
      "1400 0.431645706558\n",
      "1500 0.441722202502\n",
      "1600 0.451091606822\n",
      "1700 0.459901787041\n",
      "1800 0.468191771168\n",
      "1900 0.475967239681\n",
      "2000 0.483271153201\n",
      "2100 0.490153801296\n",
      "2200 0.49663834893\n",
      "2300 0.502794184792\n",
      "2400 0.508708947386\n",
      "2500 0.514344051099\n",
      "2600 0.519710982194\n",
      "2700 0.524853299535\n",
      "2800 0.529799357933\n",
      "2900 0.534573412002\n",
      "3000 0.539170473959\n",
      "3100 0.543625799713\n",
      "3200 0.547940945842\n",
      "3300 0.552093808987\n",
      "3400 0.556119181112\n",
      "3500 0.56002361807\n",
      "3600 0.563806837064\n",
      "3700 0.567481384772\n",
      "3800 0.571056538353\n",
      "3900 0.574545868027\n",
      "4000 0.577949492542\n",
      "4100 0.581255744365\n",
      "4200 0.584490958424\n",
      "4300 0.587648951244\n",
      "4400 0.590737322703\n",
      "4500 0.593765398051\n",
      "4600 0.596724927831\n",
      "4700 0.599616550938\n",
      "4800 0.602448615548\n",
      "4900 0.605216246532\n",
      "5000 0.607930436724\n",
      "5100 0.610589537943\n",
      "5200 0.613202199232\n",
      "5300 0.615766414156\n",
      "5400 0.618279674022\n",
      "5500 0.620749667923\n",
      "5600 0.623176880413\n",
      "5700 0.625558457869\n",
      "5800 0.627904268809\n",
      "5900 0.630215943777\n",
      "6000 0.632491154384\n",
      "6100 0.634733434629\n",
      "6200 0.636943237415\n",
      "6300 0.639121648081\n",
      "6400 0.641268300467\n",
      "6500 0.643382401564\n",
      "6600 0.645471342363\n",
      "6700 0.647530835314\n",
      "6800 0.649559606046\n",
      "6900 0.651559923994\n",
      "7000 0.653533715382\n",
      "7100 0.655483341144\n",
      "7200 0.657411124\n",
      "7300 0.659319089493\n",
      "7400 0.661205479284\n",
      "7500 0.663072237397\n",
      "7600 0.664920461432\n",
      "7700 0.666749762674\n",
      "7800 0.668562518248\n",
      "7900 0.670359337238\n",
      "8000 0.672138685315\n",
      "8100 0.67390005511\n",
      "8200 0.675646472558\n",
      "8300 0.677377550666\n",
      "8400 0.679093605323\n",
      "8500 0.680792978478\n",
      "8600 0.682477230033\n",
      "8700 0.684145886643\n",
      "8800 0.685799052131\n",
      "8900 0.687436637333\n",
      "9000 0.689059149309\n",
      "9100 0.690668961835\n",
      "9200 0.692267692313\n",
      "9300 0.693853613345\n",
      "9400 0.69542644563\n",
      "9500 0.69698795366\n",
      "9600 0.698538093832\n",
      "9700 0.700076019862\n",
      "9800 0.701601409683\n",
      "9900 0.703114078216\n",
      "10000 0.704613529405\n",
      "10100 0.706101112284\n",
      "10200 0.70757606827\n",
      "10300 0.709038505486\n",
      "10400 0.710489487738\n",
      "10500 0.711928827261\n",
      "10600 0.713356740429\n",
      "10700 0.714773167568\n",
      "10800 0.71617888918\n",
      "10900 0.717573698447\n",
      "11000 0.718959209315\n",
      "11100 0.720335245828\n",
      "11200 0.721702214121\n",
      "11300 0.72305867165\n",
      "11400 0.72440512169\n",
      "11500 0.725744750913\n",
      "11600 0.727078051121\n",
      "11700 0.728404836161\n",
      "11800 0.729724847202\n",
      "11900 0.731038343017\n",
      "12000 0.732345019986\n",
      "12100 0.733645336173\n",
      "12200 0.734938708305\n",
      "12300 0.736225927433\n",
      "12400 0.737505890631\n",
      "12500 0.738778762204\n",
      "12600 0.740045763913\n",
      "12700 0.741307726088\n",
      "12800 0.742564029803\n",
      "12900 0.743814730288\n",
      "13000 0.745060744287\n",
      "13100 0.746301253264\n",
      "13200 0.747536387931\n",
      "13300 0.74876695922\n",
      "13400 0.749992134278\n",
      "13500 0.751212414685\n",
      "13600 0.752428370463\n",
      "13700 0.75363918202\n",
      "13800 0.75484476472\n",
      "13900 0.756045020159\n",
      "14000 0.757239720669\n",
      "14100 0.758429562033\n",
      "14200 0.759615189094\n",
      "14300 0.760796088281\n",
      "14400 0.761971549774\n",
      "14500 0.763141452917\n",
      "14600 0.764306872286\n",
      "14700 0.765467497421\n",
      "14800 0.766623569977\n",
      "14900 0.767775695236\n",
      "15000 0.768922662244\n",
      "15100 0.770064872168\n",
      "15200 0.771202812022\n",
      "15300 0.772336716353\n",
      "15400 0.77346559863\n",
      "15500 0.774589696737\n",
      "15600 0.775709081092\n",
      "15700 0.776824136035\n",
      "15800 0.77793436677\n",
      "15900 0.779041002977\n",
      "16000 0.780144533577\n",
      "16100 0.781243453922\n",
      "16200 0.782338187829\n",
      "16300 0.783428860865\n",
      "16400 0.784515398773\n",
      "16500 0.785597711674\n",
      "16600 0.786676688006\n",
      "16700 0.787751014355\n",
      "16800 0.788821095317\n",
      "16900 0.789887743005\n",
      "17000 0.790950305835\n",
      "17100 0.792007898712\n",
      "17200 0.793060796666\n",
      "17300 0.794109444663\n",
      "17400 0.795153700454\n",
      "17500 0.796192712002\n",
      "17600 0.797227244859\n",
      "17700 0.798257772762\n",
      "17800 0.799284349218\n"
     ]
    }
   ],
   "source": [
    "\n",
    "percentage=0.8\n",
    "perc_var = 0\n",
    "selected_features = []\n",
    "for idx, i in enumerate(sorted_idx):\n",
    "    if(idx%500 ==0):\n",
    "        print idx, perc_var\n",
    "    perc_var+= feature_importances[i] #pas super precis donc en les sommant tous comme ça on arrive a moins de 1.0\n",
    "    selected_features.append(feature_name[i])\n",
    "    if(perc_var> percentage):\n",
    "        break"
   ]
  },
  {
   "cell_type": "code",
   "execution_count": null,
   "metadata": {
    "collapsed": true
   },
   "outputs": [],
   "source": []
  },
  {
   "cell_type": "code",
   "execution_count": 13,
   "metadata": {
    "collapsed": false
   },
   "outputs": [],
   "source": [
    "import matplotlib.pyplot as plt\n",
    "pos = np.arange(best_features.shape[0]) + .5\n",
    "plt.barh(pos, best_features, align='center')\n",
    "plt.yticks(pos, sorted_idx[0:nb_best_features])\n",
    "plt.xlabel('Importance')\n",
    "plt.show()"
   ]
  },
  {
   "cell_type": "code",
   "execution_count": null,
   "metadata": {
    "collapsed": true
   },
   "outputs": [],
   "source": []
  }
 ],
 "metadata": {
  "kernelspec": {
   "display_name": "Python 2",
   "language": "python",
   "name": "python2"
  },
  "language_info": {
   "codemirror_mode": {
    "name": "ipython",
    "version": 2
   },
   "file_extension": ".py",
   "mimetype": "text/x-python",
   "name": "python",
   "nbconvert_exporter": "python",
   "pygments_lexer": "ipython2",
   "version": "2.7.11"
  }
 },
 "nbformat": 4,
 "nbformat_minor": 0
}
