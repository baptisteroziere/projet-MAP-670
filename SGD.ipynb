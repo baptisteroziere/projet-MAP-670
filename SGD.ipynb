{
 "cells": [
  {
   "cell_type": "code",
   "execution_count": 36,
   "metadata": {
    "collapsed": true
   },
   "outputs": [],
   "source": [
    "import sklearn \n",
    "import numpy as np\n",
    "import scipy\n",
    "import csv\n",
    "\n",
    "def load_sparse_csr(filename):\n",
    "    loader = np.load(filename)\n",
    "    return scipy.sparse.csr_matrix(( loader['data'], loader['indices'], loader['indptr']),\n",
    "                     shape = loader['shape'])\n",
    "        \n",
    "def load_csv(filename):\n",
    "    with open(filename, 'r') as csvfile:\n",
    "        reader = csv.reader(csvfile, delimiter = '\\n')\n",
    "        array = [float(row[0]) for row in reader]\n",
    "        return array\n",
    "    \n",
    "data_train = load_sparse_csr('DB_no_cleaning/data_train_no_feat.npz')\n",
    "data_test = load_sparse_csr('DB_no_cleaning/data_test_no_feat.npz')\n",
    "\n",
    "label_train = load_csv('DB_no_cleaning/label_train_no_feat.csv')\n",
    "label_test = load_csv('DB_no_cleaning/label_test_no_feat.csv')"
   ]
  },
  {
   "cell_type": "code",
   "execution_count": 37,
   "metadata": {
    "collapsed": false
   },
   "outputs": [],
   "source": [
    "from sklearn.feature_selection.univariate_selection import SelectKBest, chi2, f_classif\n",
    "fselect = SelectKBest(chi2 , k=30000)\n",
    "#data_train = fselect.fit_transform(data_train, label_train)\n",
    "#data_test = fselect.transform(data_test)\n"
   ]
  },
  {
   "cell_type": "code",
   "execution_count": 38,
   "metadata": {
    "collapsed": false
   },
   "outputs": [
    {
     "name": "stdout",
     "output_type": "stream",
     "text": [
      "('SGD - Mean score on cross val', 0.49978660983844314)\n",
      "('SGD - Score on test_data : ', 0.49743999999999999)\n",
      "('SGD - Score on train_data : ', 0.50074666666666667)\n"
     ]
    }
   ],
   "source": [
    "from sklearn import cross_validation\n",
    "from sklearn.linear_model import SGDClassifier \n",
    "\n",
    "# ADD other param?\n",
    "alg = SGDClassifier(shuffle = True)\n",
    "alg.fit(data_train, label_train)\n",
    "predicted_label = alg.predict(data_test)\n",
    "\n",
    "# Take the mean of the scores (because we have one for each fold)\n",
    "scores = cross_validation.cross_val_score(alg, data_train, label_train, cv=10)\n",
    "print(\"SGD - Mean score on cross val\", scores.mean())\n",
    "print(\"SGD - Score on test_data : \", score(predicted_label, label_test))\n",
    "print(\"SGD - Score on train_data : \", score(alg.predict(data_train), label_train))"
   ]
  },
  {
   "cell_type": "code",
   "execution_count": null,
   "metadata": {
    "collapsed": false
   },
   "outputs": [],
   "source": [
    "from sklearn import cross_validation\n",
    "from sklearn.linear_model import SGDClassifier \n",
    "\n",
    "# ADD other param?\n",
    "alg = SGDClassifier(loss='perceptron', eta0=1, learning_rate=\"constant\", penalty=None, shuffle = True)\n",
    "alg.fit(data_train, label_train)\n",
    "predicted_label = alg.predict(data_test)\n",
    "\n",
    "# Take the mean of the scores (because we have one for each fold)\n",
    "scores = cross_validation.cross_val_score(alg, data_train, label_train, cv=10)\n",
    "print(\"SGD - Mean score on cross val\", scores.mean())\n",
    "print(\"SGD - Score on test_data : \", score(predicted_label, label_test))\n",
    "print(\"SGD - Score on train_data : \", score(alg.predict(data_train), label_train))"
   ]
  },
  {
   "cell_type": "code",
   "execution_count": null,
   "metadata": {
    "collapsed": true
   },
   "outputs": [],
   "source": []
  }
 ],
 "metadata": {
  "kernelspec": {
   "display_name": "Python 2",
   "language": "python",
   "name": "python2"
  },
  "language_info": {
   "codemirror_mode": {
    "name": "ipython",
    "version": 2
   },
   "file_extension": ".py",
   "mimetype": "text/x-python",
   "name": "python",
   "nbconvert_exporter": "python",
   "pygments_lexer": "ipython2",
   "version": "2.7.11"
  }
 },
 "nbformat": 4,
 "nbformat_minor": 0
}
