{
 "cells": [
  {
   "cell_type": "code",
   "execution_count": 1,
   "metadata": {
    "collapsed": true
   },
   "outputs": [],
   "source": [
    "import sklearn \n",
    "import numpy as np\n",
    "import scipy\n",
    "import csv\n",
    "\n",
    "def load_sparse_csr(filename):\n",
    "    loader = np.load(filename)\n",
    "    return scipy.sparse.csr_matrix(( loader['data'], loader['indices'], loader['indptr']),\n",
    "                     shape = loader['shape'])\n",
    "        \n",
    "def load_csv(filename):\n",
    "    with open(filename, 'r') as csvfile:\n",
    "        reader = csv.reader(csvfile, delimiter = '\\n')\n",
    "        array = [float(row[0]) for row in reader]\n",
    "        return array\n",
    "    \n",
    "def load_feature_names(filename):\n",
    "    with open(filename, 'r') as csvfile:\n",
    "        reader = csv.reader(csvfile, delimiter= '\\n')\n",
    "        array = [row for row in reader]\n",
    "        return array"
   ]
  },
  {
   "cell_type": "code",
   "execution_count": 2,
   "metadata": {
    "collapsed": true
   },
   "outputs": [],
   "source": [
    "path = \"simplified_data/\"\n",
    "data_train = load_sparse_csr(path+'data_train.npz')\n",
    "data_test = load_sparse_csr(path+'data_test.npz')\n",
    "label_train = load_csv(path+'label_train.csv')\n",
    "label_test = load_csv(path+'label_test.csv')\n",
    "features_names = load_feature_names('data/feature_names.csv')"
   ]
  },
  {
   "cell_type": "code",
   "execution_count": 3,
   "metadata": {
    "collapsed": true
   },
   "outputs": [],
   "source": [
    "def score(true_label, predicted_label):\n",
    "    length = len(true_label)\n",
    "    total = 0\n",
    "    for i, label in enumerate(true_label):\n",
    "        if label == predicted_label[i]:\n",
    "            total += 1\n",
    "    return float(total)/float(length)\n",
    "\n"
   ]
  },
  {
   "cell_type": "code",
   "execution_count": 4,
   "metadata": {
    "collapsed": true
   },
   "outputs": [],
   "source": [
    "from sklearn.feature_selection.univariate_selection import SelectKBest, chi2, f_classif\n",
    "fselect = SelectKBest(chi2 , k=80000)\n",
    "data_train = fselect.fit_transform(data_train, label_train)\n",
    "data_test = fselect.transform(data_test)\n"
   ]
  },
  {
   "cell_type": "markdown",
   "metadata": {},
   "source": [
    "# One classifier"
   ]
  },
  {
   "cell_type": "code",
   "execution_count": 5,
   "metadata": {
    "collapsed": false
   },
   "outputs": [
    {
     "name": "stdout",
     "output_type": "stream",
     "text": [
      "0.8944\n"
     ]
    }
   ],
   "source": [
    "from sklearn.linear_model import LogisticRegression\n",
    "\n",
    "alg1 = LogisticRegression(penalty = 'l2')\n",
    "alg1.fit(data_train, label_train)\n",
    "predicted_label1 = alg1.predict(data_test)\n",
    "probability1 = alg1.predict_proba(data_test)\n",
    "\n",
    "print(score(predicted_label1, label_test))"
   ]
  },
  {
   "cell_type": "code",
   "execution_count": 6,
   "metadata": {
    "collapsed": false
   },
   "outputs": [
    {
     "name": "stdout",
     "output_type": "stream",
     "text": [
      "0.9056\n"
     ]
    }
   ],
   "source": [
    "from sklearn.linear_model import SGDClassifier\n",
    "\n",
    "alg2 = SGDClassifier(loss='modified_huber', n_iter=5, random_state=0, shuffle=True)\n",
    "alg2.fit( data_train, label_train )\n",
    "predicted_label = alg2.predict(data_test)\n",
    "print(score(label_test, predicted_label))"
   ]
  },
  {
   "cell_type": "code",
   "execution_count": 7,
   "metadata": {
    "collapsed": false
   },
   "outputs": [
    {
     "name": "stdout",
     "output_type": "stream",
     "text": [
      "('linear svc  - Score on test_data : ', 0.90688)\n",
      "('Bernouilli Naive Bayes - Score on train_data : ', 0.9937066666666666)\n"
     ]
    }
   ],
   "source": [
    "from sklearn.svm import LinearSVC\n",
    "from sklearn import cross_validation\n",
    "alg3 = LinearSVC(penalty=\"l2\",dual=False, C=0.48329302385717521)\n",
    "alg3.fit(data_train, label_train)\n",
    "predicted_label = alg3.predict(data_test)\n",
    "\n",
    "# Take the mean of the scores (because we have one for each fold)\n",
    "#scores = cross_validation.cross_val_score(alg, data_train, label_train, cv=10)\n",
    "#print(\"linear svc - Mean score on cross val\", scores.mean())\n",
    "print(\"linear svc  - Score on test_data : \", score(predicted_label, label_test))\n",
    "print(\"Bernouilli Naive Bayes - Score on train_data : \", score(alg3.predict(data_train), label_train))"
   ]
  },
  {
   "cell_type": "markdown",
   "metadata": {},
   "source": [
    "# Majority Vote"
   ]
  },
  {
   "cell_type": "code",
   "execution_count": 8,
   "metadata": {
    "collapsed": false
   },
   "outputs": [
    {
     "name": "stdout",
     "output_type": "stream",
     "text": [
      "('Majority vote  - Score on test_data : ', 0.90592)\n",
      "('Majority vote - Score on train_data : ', 0.9937066666666666)\n"
     ]
    }
   ],
   "source": [
    "from sklearn.ensemble import VotingClassifier\n",
    "mv = VotingClassifier(estimators=[('lr', alg1), ('sgd', alg2), ('svm', alg3)], voting='hard',weights=[1,1,1])\n",
    "mv.fit(data_train, label_train)\n",
    "predicted_label = mv.predict(data_test)\n",
    "\n",
    "# Take the mean of the scores (because we have one for each fold)\n",
    "#scores = cross_validation.cross_val_score(alg, data_train, label_train, cv=10)\n",
    "#print(\"linear svc - Mean score on cross val\", scores.mean())\n",
    "print(\"Majority vote  - Score on test_data : \", score(predicted_label, label_test))\n",
    "print(\"Majority vote - Score on train_data : \", score(mv.predict(data_train), label_train))"
   ]
  },
  {
   "cell_type": "markdown",
   "metadata": {},
   "source": [
    "# Average Probability"
   ]
  },
  {
   "cell_type": "code",
   "execution_count": 9,
   "metadata": {
    "collapsed": false
   },
   "outputs": [
    {
     "name": "stdout",
     "output_type": "stream",
     "text": [
      "('AV  - Score on test_data : ', 0.90256)\n",
      "('AV - Score on train_data : ', 0.9833066666666667)\n"
     ]
    }
   ],
   "source": [
    "from sklearn.ensemble import VotingClassifier\n",
    "ap = VotingClassifier(estimators=[('lr', alg1), ('sgd', alg2)], voting = 'soft', weights=[1,1]) #should normally be used on well-calibrated classifiers (not the case here)\n",
    "ap.fit(data_train, label_train)\n",
    "predicted_label = ap.predict(data_test)\n",
    "\n",
    "# Take the mean of the scores (because we have one for each fold)\n",
    "#scores = cross_validation.cross_val_score(alg, data_train, label_train, cv=10)\n",
    "#print(\"linear svc - Mean score on cross val\", scores.mean())\n",
    "print(\"AV  - Score on test_data : \", score(predicted_label, label_test))\n",
    "print(\"AV - Score on train_data : \", score(ap.predict(data_train), label_train))"
   ]
  },
  {
   "cell_type": "code",
   "execution_count": null,
   "metadata": {
    "collapsed": true
   },
   "outputs": [],
   "source": []
  }
 ],
 "metadata": {
  "kernelspec": {
   "display_name": "Python 2",
   "language": "python",
   "name": "python2"
  },
  "language_info": {
   "codemirror_mode": {
    "name": "ipython",
    "version": 2
   },
   "file_extension": ".py",
   "mimetype": "text/x-python",
   "name": "python",
   "nbconvert_exporter": "python",
   "pygments_lexer": "ipython2",
   "version": "2.7.11"
  }
 },
 "nbformat": 4,
 "nbformat_minor": 0
}
