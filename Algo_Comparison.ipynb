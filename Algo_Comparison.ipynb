{
 "cells": [
  {
   "cell_type": "markdown",
   "metadata": {},
   "source": [
    "# Load Data"
   ]
  },
  {
   "cell_type": "code",
   "execution_count": 2,
   "metadata": {
    "collapsed": true
   },
   "outputs": [],
   "source": [
    "import sklearn \n",
    "import numpy as np\n",
    "import scipy\n",
    "import csv\n",
    "\n",
    "def load_sparse_csr(filename):\n",
    "    loader = np.load(filename)\n",
    "    return scipy.sparse.csr_matrix(( loader['data'], loader['indices'], loader['indptr']),\n",
    "                     shape = loader['shape'])\n",
    "\n",
    "def load_sparse_coo(filename):\n",
    "    loader = np.load(filename)\n",
    "    return scipy.sparse.coo_matrix((loader['data'],(loader['row'],loader['col'])),\n",
    "                     shape = loader['shape'])\n",
    "\n",
    "def load_csv(filename):\n",
    "    with open(filename, 'r') as csvfile:\n",
    "        reader = csv.reader(csvfile, delimiter = '\\n')\n",
    "        array = [float(row[0]) for row in reader]\n",
    "        return array\n",
    "    \n",
    "def load_feature_names(filename):\n",
    "    with open(filename, 'r') as csvfile:\n",
    "        reader = csv.reader(csvfile, delimiter= '\\n')\n",
    "        array = [row for row in reader]\n",
    "        return array"
   ]
  },
  {
   "cell_type": "markdown",
   "metadata": {},
   "source": [
    "tf-idf"
   ]
  },
  {
   "cell_type": "code",
   "execution_count": null,
   "metadata": {
    "collapsed": true
   },
   "outputs": [],
   "source": [
    "path = \"simplified_data/\"\n",
    "label_train = load_csv(path+'label_train.csv')\n",
    "label_test = load_csv(path+'label_test.csv')\n",
    "data_train = load_sparse_csr(path+'data_train.npz')\n",
    "data_test = load_sparse_csr(path+'data_test.npz')\n",
    "features_names = load_feature_names('data/feature_names.csv')"
   ]
  },
  {
   "cell_type": "markdown",
   "metadata": {},
   "source": [
    "tw-idf"
   ]
  },
  {
   "cell_type": "code",
   "execution_count": 3,
   "metadata": {
    "collapsed": true
   },
   "outputs": [],
   "source": [
    "label_train_tw = load_csv('labels_train_train.csv')\n",
    "label_test_tw = load_csv('labels_train_test.csv')"
   ]
  },
  {
   "cell_type": "code",
   "execution_count": 4,
   "metadata": {
    "collapsed": false
   },
   "outputs": [],
   "source": [
    "data_train_all = [load_sparse_csr('tw_sw{}_all_train_train.npz'.format(k)) for k in range(1,6)]\n",
    "data_test_all = [load_sparse_csr('tw_sw{}_all_train_test.npz'.format(k)) for k in range(1,6)]\n",
    "data_train_sep = [load_sparse_coo('tw_sw{}_train_train.npz'.format(k)) for k in range(1,6)]\n",
    "data_test_sep = [load_sparse_coo('tw_sw{}_train_test.npz'.format(k)) for k in range(1,6)]"
   ]
  },
  {
   "cell_type": "markdown",
   "metadata": {},
   "source": [
    "# Normalizing"
   ]
  },
  {
   "cell_type": "markdown",
   "metadata": {},
   "source": [
    "tw-idf"
   ]
  },
  {
   "cell_type": "code",
   "execution_count": 61,
   "metadata": {
    "collapsed": false
   },
   "outputs": [],
   "source": [
    "from sklearn.preprocessing import MaxAbsScaler\n",
    "normalizer_all = map(lambda x: MaxAbsScaler().fit(x), data_train_all)\n",
    "normalizer_sep = map(lambda x: MaxAbsScaler().fit(x), data_train_sep)"
   ]
  },
  {
   "cell_type": "code",
   "execution_count": 62,
   "metadata": {
    "collapsed": false
   },
   "outputs": [],
   "source": [
    "data_train_all_norm = [normalizer_all[i].transform(data_train_all[i]) for i in range(len(data_train_all))]\n",
    "data_test_all_norm = [normalizer_all[i].transform(data_test_all[i]) for i in range(len(data_test_all))]\n",
    "data_train_sep_norm = [normalizer_sep[i].transform(data_train_sep[i]) for i in range(len(data_train_sep))]\n",
    "data_test_sep_norm = [normalizer_sep[i].transform(data_test_sep[i]) for i in range(len(data_test_sep))]"
   ]
  },
  {
   "cell_type": "markdown",
   "metadata": {},
   "source": [
    "# Feature selection"
   ]
  },
  {
   "cell_type": "code",
   "execution_count": 63,
   "metadata": {
    "collapsed": true
   },
   "outputs": [],
   "source": [
    "from sklearn.feature_selection.univariate_selection import SelectKBest, chi2, f_classif\n",
    "fselect = SelectKBest(chi2 , k=80000)"
   ]
  },
  {
   "cell_type": "markdown",
   "metadata": {},
   "source": [
    "tf-idf"
   ]
  },
  {
   "cell_type": "code",
   "execution_count": null,
   "metadata": {
    "collapsed": true
   },
   "outputs": [],
   "source": [
    "data_train = fselect.fit_transform(data_train, label_train)\n",
    "data_test = fselect.transform(data_test)"
   ]
  },
  {
   "cell_type": "markdown",
   "metadata": {},
   "source": [
    "tw-idf"
   ]
  },
  {
   "cell_type": "code",
   "execution_count": 75,
   "metadata": {
    "collapsed": false
   },
   "outputs": [
    {
     "data": {
      "text/plain": [
       "(<18750x99627 sparse matrix of type '<type 'numpy.float64'>'\n",
       " \twith 91517 stored elements in Compressed Sparse Row format>, 1.0)"
      ]
     },
     "execution_count": 75,
     "metadata": {},
     "output_type": "execute_result"
    }
   ],
   "source": [
    "data_train_all[0], label_train_tw[0]"
   ]
  },
  {
   "cell_type": "code",
   "execution_count": 76,
   "metadata": {
    "collapsed": false
   },
   "outputs": [
    {
     "data": {
      "text/plain": [
       "SelectKBest(k=996, score_func=<function f_classif at 0x11b32fc80>)"
      ]
     },
     "execution_count": 76,
     "metadata": {},
     "output_type": "execute_result"
    }
   ],
   "source": [
    "SelectKBest(f_classif , k=data_train_all[0].shape[1]/100).fit(data_train_all[0],label_train_tw)"
   ]
  },
  {
   "cell_type": "code",
   "execution_count": 77,
   "metadata": {
    "collapsed": false
   },
   "outputs": [],
   "source": [
    "fselect_all = [SelectKBest(f_classif , k=data_train_all[i].shape[1]/100).fit(\n",
    "        data_train_all[i],label_train_tw) for i in range(len(data_train_all))]\n",
    "fselect_sep = [SelectKBest(f_classif , k=data_train_sep[i].shape[1]/100).fit(\n",
    "        data_train_sep[i], label_train_tw) for i in range(len(data_train_sep))]"
   ]
  },
  {
   "cell_type": "code",
   "execution_count": 79,
   "metadata": {
    "collapsed": false
   },
   "outputs": [],
   "source": [
    "data_train_all_selec = [fselect_all[i].transform(data_train_all[i]) for i in range(len(data_train_all))]\n",
    "data_test_all_selec = [fselect_all[i].transform(data_test_all[i]) for i in range(len(data_test_all))]\n",
    "data_train_sep_selec = [fselect_sep[i].transform(data_train_sep[i]) for i in range(len(data_train_sep))]\n",
    "data_test_sep_selec = [fselect_sep[i].transform(data_test_sep[i]) for i in range(len(data_test_sep))]"
   ]
  },
  {
   "cell_type": "code",
   "execution_count": 83,
   "metadata": {
    "collapsed": false
   },
   "outputs": [],
   "source": [
    "fselect_all_norm = [SelectKBest(f_classif , k=data_train_all_norm[i].shape[1]/100).fit(\n",
    "        data_train_all_norm[i],label_train_tw) for i in range(len(data_train_all_norm))]\n",
    "fselect_sep_norm = [SelectKBest(f_classif , k=data_train_sep[i].shape[1]/100).fit(\n",
    "        data_train_sep_norm[i], label_train_tw) for i in range(len(data_train_sep_norm))]"
   ]
  },
  {
   "cell_type": "code",
   "execution_count": 84,
   "metadata": {
    "collapsed": false
   },
   "outputs": [],
   "source": [
    "data_train_all_norm_selec = [fselect_all_norm[i].transform(\n",
    "        data_train_all_norm[i]) for i in range(len(data_train_all_norm))]\n",
    "data_test_all_norm_selec = [fselect_all_norm[i].transform(\n",
    "        data_test_all_norm[i]) for i in range(len(data_test_all_norm))]\n",
    "data_train_sep_norm_selec = [fselect_sep_norm[i].transform(\n",
    "        data_train_sep_norm[i]) for i in range(len(data_train_sep_norm))]\n",
    "data_test_sep_norm_selec = [fselect_sep_norm[i].transform(\n",
    "        data_test_sep_norm[i]) for i in range(len(data_test_sep_norm))]"
   ]
  },
  {
   "cell_type": "markdown",
   "metadata": {},
   "source": [
    "# Models"
   ]
  },
  {
   "cell_type": "code",
   "execution_count": 4,
   "metadata": {
    "collapsed": true
   },
   "outputs": [],
   "source": [
    "def score(true_label, predicted_label):\n",
    "    length = len(true_label)\n",
    "    total = 0\n",
    "    for i, label in enumerate(true_label):\n",
    "        if label == predicted_label[i]:\n",
    "            total += 1\n",
    "    return float(total)/float(length)"
   ]
  },
  {
   "cell_type": "markdown",
   "metadata": {},
   "source": [
    "## Logistic regression"
   ]
  },
  {
   "cell_type": "code",
   "execution_count": 87,
   "metadata": {
    "collapsed": true
   },
   "outputs": [],
   "source": [
    "from sklearn.linear_model import LogisticRegression\n",
    "from sklearn import cross_validation"
   ]
  },
  {
   "cell_type": "markdown",
   "metadata": {},
   "source": [
    "tf-idf"
   ]
  },
  {
   "cell_type": "code",
   "execution_count": 5,
   "metadata": {
    "collapsed": false
   },
   "outputs": [
    {
     "name": "stdout",
     "output_type": "stream",
     "text": [
      "('LogReg - Penalty l1 - Score on test_data : ', 0.8632)\n",
      "('LogReg - Penalty l2 - Score on test_data : ', 0.8944)\n"
     ]
    }
   ],
   "source": [
    "alg = LogisticRegression(penalty = 'l1')\n",
    "alg.fit(data_train, label_train)\n",
    "predicted_label = alg.predict(data_test)\n",
    "print(\"LogReg - Penalty l1 - Score on test_data : \", score(label_test, predicted_label))\n",
    "\n",
    "alg = LogisticRegression(penalty = 'l2')\n",
    "alg.fit(data_train, label_train)\n",
    "predicted_label = alg.predict(data_test)\n",
    "print(\"LogReg - Penalty l2 - Score on test_data : \", score(label_test, predicted_label))"
   ]
  },
  {
   "cell_type": "markdown",
   "metadata": {},
   "source": [
    "tw-idf"
   ]
  },
  {
   "cell_type": "code",
   "execution_count": 100,
   "metadata": {
    "collapsed": false
   },
   "outputs": [
    {
     "data": {
      "text/plain": [
       "(6250, 996)"
      ]
     },
     "execution_count": 100,
     "metadata": {},
     "output_type": "execute_result"
    }
   ],
   "source": [
    "data_test_all_norm_selec[0].shape"
   ]
  },
  {
   "cell_type": "markdown",
   "metadata": {},
   "source": [
    "L1 penality"
   ]
  },
  {
   "cell_type": "code",
   "execution_count": 104,
   "metadata": {
    "collapsed": false
   },
   "outputs": [
    {
     "name": "stdout",
     "output_type": "stream",
     "text": [
      "LogReg - Penalty l1 - features computed for all - sliding window 1 :  0.5864\n",
      "LogReg - Penalty l1 - features computed for all - sliding window 2 :  0.87392\n",
      "LogReg - Penalty l1 - features computed for all - sliding window 3 :  0.8728\n",
      "LogReg - Penalty l1 - features computed for all - sliding window 4 :  0.87216\n",
      "LogReg - Penalty l1 - features computed for all - sliding window 5 :  0.86992\n",
      "LogReg - Penalty l1 - features computed separetely - sliding window 1 :  0.5864\n",
      "LogReg - Penalty l1 - features computed separetely - sliding window 2 :  0.8744\n",
      "LogReg - Penalty l1 - features computed separetely - sliding window 3 :  0.87136\n",
      "LogReg - Penalty l1 - features computed separetely - sliding window 4 :  0.87184\n",
      "LogReg - Penalty l1 - features computed separetely - sliding window 5 :  0.86992\n"
     ]
    }
   ],
   "source": [
    "from sklearn.metrics import zero_one_loss\n",
    "log_all_tw = map(lambda x: LogisticRegression(penalty = 'l1').fit(x, label_train_tw), data_train_all_norm)\n",
    "log_sep_tw = map(lambda x: LogisticRegression(penalty = 'l1').fit(x, label_train_tw), data_train_sep_norm)\n",
    "log_label_all_tw = [log_all_tw[i].predict(data_test_all_norm[i]) for i in range(len(data_test_all_norm_selec))]\n",
    "for i, preds in enumerate(log_label_all_tw):\n",
    "    print \"LogReg - Penalty l1 - features computed for all - sliding window {} : \".format(i+1), 1 - zero_one_loss(label_test_tw, preds)\n",
    "\n",
    "log_label_sep_tw = [log_sep_tw[i].predict(data_test_sep_norm[i]) for i in range(len(data_test_sep_norm_selec))]\n",
    "for i, preds in enumerate(log_label_sep_tw):\n",
    "    print \"LogReg - Penalty l1 - features computed separetely - sliding window {} : \".format(i+1), 1 - zero_one_loss(label_test_tw, preds)"
   ]
  },
  {
   "cell_type": "markdown",
   "metadata": {},
   "source": [
    "L2 penality"
   ]
  },
  {
   "cell_type": "code",
   "execution_count": 105,
   "metadata": {
    "collapsed": false
   },
   "outputs": [
    {
     "name": "stdout",
     "output_type": "stream",
     "text": [
      "LogReg - Penalty l1 - features computed for all - sliding window 1 :  0.58592\n",
      "LogReg - Penalty l1 - features computed for all - sliding window 2 :  0.88336\n",
      "LogReg - Penalty l1 - features computed for all - sliding window 3 :  0.88128\n",
      "LogReg - Penalty l1 - features computed for all - sliding window 4 :  0.87984\n",
      "LogReg - Penalty l1 - features computed for all - sliding window 5 :  0.88064\n",
      "LogReg - Penalty l1 - features computed separetely - sliding window 1 :  0.58592\n",
      "LogReg - Penalty l1 - features computed separetely - sliding window 2 :  0.88304\n",
      "LogReg - Penalty l1 - features computed separetely - sliding window 3 :  0.87984\n",
      "LogReg - Penalty l1 - features computed separetely - sliding window 4 :  0.87936\n",
      "LogReg - Penalty l1 - features computed separetely - sliding window 5 :  0.88096\n"
     ]
    }
   ],
   "source": [
    "from sklearn.metrics import zero_one_loss\n",
    "log_all_tw = map(lambda x: LogisticRegression(penalty = 'l2').fit(x, label_train_tw), data_train_all_norm)\n",
    "log_sep_tw = map(lambda x: LogisticRegression(penalty = 'l2').fit(x, label_train_tw), data_train_sep_norm)\n",
    "log_label_all_tw = [log_all_tw[i].predict(data_test_all_norm[i]) for i in range(len(data_test_all_norm))]\n",
    "for i, preds in enumerate(log_label_all_tw):\n",
    "    print \"LogReg - Penalty l1 - features computed for all - sliding window {} : \".format(i+1), 1 - zero_one_loss(label_test_tw, preds)\n",
    "\n",
    "log_label_sep_tw = [log_sep_tw[i].predict(data_test_sep_norm[i]) for i in range(len(data_test_sep_norm))]\n",
    "for i, preds in enumerate(log_label_sep_tw):\n",
    "    print \"LogReg - Penalty l1 - features computed separetely - sliding window {} : \".format(i+1), 1 - zero_one_loss(label_test_tw, preds)"
   ]
  },
  {
   "cell_type": "markdown",
   "metadata": {},
   "source": [
    "## Random forests"
   ]
  },
  {
   "cell_type": "code",
   "execution_count": 6,
   "metadata": {
    "collapsed": false
   },
   "outputs": [
    {
     "name": "stdout",
     "output_type": "stream",
     "text": [
      "('Random Forest - Score on test_data : ', 0.81904)\n"
     ]
    }
   ],
   "source": [
    "from sklearn.ensemble import RandomForestClassifier\n",
    "\n",
    "alg = RandomForestClassifier(random_state=1, n_estimators=30)\n",
    "alg.fit(data_train, label_train)\n",
    "predicted_label = alg.predict(data_test)\n",
    "\n",
    "print(\"Random Forest - Score on test_data : \", score(label_test, predicted_label))"
   ]
  },
  {
   "cell_type": "code",
   "execution_count": 106,
   "metadata": {
    "collapsed": false
   },
   "outputs": [
    {
     "name": "stdout",
     "output_type": "stream",
     "text": [
      "Random Forest - features computed for all - sliding window 1 :  0.548\n",
      "Random Forest - features computed for all - sliding window 2 :  0.8112\n",
      "Random Forest - features computed for all - sliding window 3 :  0.80624\n",
      "Random Forest - features computed for all - sliding window 4 :  0.8104\n",
      "Random Forest - features computed for all - sliding window 5 :  0.80592\n",
      "Random Forest - features computed separetely - sliding window 1 :  0.54528\n",
      "Random Forest - features computed separetely - sliding window 2 :  0.82\n",
      "Random Forest - features computed separetely - sliding window 3 :  0.80944\n",
      "Random Forest - features computed separetely - sliding window 4 :  0.8112\n",
      "Random Forest - features computed separetely - sliding window 5 :  0.8104\n"
     ]
    }
   ],
   "source": [
    "from sklearn.ensemble import RandomForestClassifier\n",
    "\n",
    "rf_all_tw = map(lambda x: RandomForestClassifier(random_state=1, n_estimators=30).fit(x, label_train_tw), data_train_all_norm)\n",
    "rf_sep_tw = map(lambda x: RandomForestClassifier(random_state=1, n_estimators=30).fit(x, label_train_tw), data_train_sep_norm)\n",
    "rf_label_all_tw = [rf_all_tw[i].predict(data_test_all_norm[i]) for i in range(len(data_test_all_norm))]\n",
    "\n",
    "for i, preds in enumerate(rf_label_all_tw):\n",
    "    print \"Random Forest - features computed for all - sliding window {} : \".format(i+1), 1 - zero_one_loss(label_test_tw, preds)\n",
    "\n",
    "rf_label_sep_tw = [rf_sep_tw[i].predict(data_test_sep_norm[i]) for i in range(len(data_test_sep_norm))]\n",
    "for i, preds in enumerate(rf_label_sep_tw):\n",
    "    print \"Random Forest - features computed separetely - sliding window {} : \".format(i+1), 1 - zero_one_loss(label_test_tw, preds)"
   ]
  },
  {
   "cell_type": "markdown",
   "metadata": {},
   "source": [
    "## Support vector classification"
   ]
  },
  {
   "cell_type": "code",
   "execution_count": 107,
   "metadata": {
    "collapsed": true
   },
   "outputs": [],
   "source": [
    "from sklearn.svm import LinearSVC\n",
    "from sklearn.grid_search import GridSearchCV "
   ]
  },
  {
   "cell_type": "markdown",
   "metadata": {},
   "source": [
    "tf-idf"
   ]
  },
  {
   "cell_type": "code",
   "execution_count": 7,
   "metadata": {
    "collapsed": false
   },
   "outputs": [
    {
     "name": "stdout",
     "output_type": "stream",
     "text": [
      "('SVM - Best C & associated score', {'C': 1.0}, 0.88357333333333332)\n",
      "('SVM - Score on test_data : ', 0.88768)\n",
      "('SVM - Best C & associated score', {'C': 1.0}, 0.90725333333333336)\n",
      "('SVM - Score on test_data : ', 0.9064)\n"
     ]
    }
   ],
   "source": [
    "Cs = {'C': np.logspace(-1, 0, 20)}\n",
    "\n",
    "grid_search = GridSearchCV(LinearSVC(penalty=\"l1\",dual=False), Cs)\n",
    "alg = grid_search.fit(data_train, label_train)\n",
    "predicted_label = alg.predict(data_test)\n",
    "\n",
    "print(\"SVM - Best C & associated score\", grid_search.best_params_, grid_search.best_score_)\n",
    "print(\"SVM - Score on test_data : \", score(label_test, predicted_label))\n",
    "\n",
    "grid_search = GridSearchCV(LinearSVC(penalty=\"l2\",dual=False), Cs)\n",
    "alg = grid_search.fit(data_train, label_train)\n",
    "predicted_label = alg.predict(data_test)\n",
    "\n",
    "print(\"SVM - Best C & associated score\", grid_search.best_params_, grid_search.best_score_)\n",
    "print(\"SVM - Score on test_data : \", score(label_test, predicted_label))"
   ]
  },
  {
   "cell_type": "code",
   "execution_count": 110,
   "metadata": {
    "collapsed": false
   },
   "outputs": [
    {
     "data": {
      "text/plain": [
       "[<6250x99627 sparse matrix of type '<type 'numpy.float64'>'\n",
       " \twith 30391 stored elements in Compressed Sparse Row format>,\n",
       " <6250x99627 sparse matrix of type '<type 'numpy.float64'>'\n",
       " \twith 685836 stored elements in Compressed Sparse Row format>,\n",
       " <6250x99627 sparse matrix of type '<type 'numpy.float64'>'\n",
       " \twith 685836 stored elements in Compressed Sparse Row format>,\n",
       " <6250x99627 sparse matrix of type '<type 'numpy.float64'>'\n",
       " \twith 685836 stored elements in Compressed Sparse Row format>,\n",
       " <6250x99627 sparse matrix of type '<type 'numpy.float64'>'\n",
       " \twith 685836 stored elements in Compressed Sparse Row format>]"
      ]
     },
     "execution_count": 110,
     "metadata": {},
     "output_type": "execute_result"
    }
   ],
   "source": [
    "data_test_all_norm"
   ]
  },
  {
   "cell_type": "code",
   "execution_count": 111,
   "metadata": {
    "collapsed": false
   },
   "outputs": [
    {
     "name": "stdout",
     "output_type": "stream",
     "text": [
      "SVM - Best C & associated score {'C': 72.78953843983146} 0.5888\n",
      "SVM - features computed for all - sliding window 1 :  0.58688\n",
      "SVM - Best C & associated score {'C': 0.23950266199874859} 0.866186666667\n",
      "SVM - features computed for all - sliding window 2 :  0.87616\n",
      "SVM - Best C & associated score {'C': 0.23950266199874859} 0.864426666667\n",
      "SVM - features computed for all - sliding window 3 :  0.8736\n",
      "SVM - Best C & associated score {'C': 0.23950266199874859} 0.8632\n",
      "SVM - features computed for all - sliding window 4 :  0.87312\n",
      "SVM - Best C & associated score {'C': 0.23950266199874859} 0.863786666667\n",
      "SVM - features computed for all - sliding window 5 :  0.87168\n"
     ]
    }
   ],
   "source": [
    "Cs = {'C': np.logspace(-2, 2, 30)}\n",
    "\n",
    "SVM_all_tw_l1 = map(\n",
    "    lambda x: GridSearchCV(LinearSVC(penalty=\"l1\",dual=False), Cs).fit(x, label_train_tw), data_train_all_norm) \n",
    "\n",
    "SVM_label_all_tw_l1 = [SVM_all_tw_l1[i].predict(data_test_all_norm[i]) for i in range(len(data_test_all_norm))]\n",
    "\n",
    "for i, preds in enumerate(SVM_label_all_tw_l1):\n",
    "    print \"SVM - Best C & associated score\", SVM_all_tw_l1[i].best_params_, SVM_all_tw_l1[i].best_score_\n",
    "    print \"SVM - features computed for all - sliding window {} : \".format(i+1), 1 - zero_one_loss(label_test_tw, preds)"
   ]
  },
  {
   "cell_type": "code",
   "execution_count": null,
   "metadata": {
    "collapsed": true
   },
   "outputs": [],
   "source": [
    "SVM_all_tw_l2 = map(\n",
    "    lambda x: GridSearchCV(LinearSVC(penalty=\"l2\",dual=False), Cs, n_jobs=-1).fit(x, label_train_tw), data_train_all_norm)\n",
    "SVM_label_tw_l2 = [SVM_all_tw_l2[i].predict(data_test_all_norm[i]) for i in range(len(data_test_all_norm))]\n",
    "\n",
    "for i, preds in enumerate(SVM_label_all_tw_l2):\n",
    "    print \"SVM - Best C & associated score\", SVM_all_tw_l2[i].best_params_, SVM_all_tw_l2[i].best_score_\n",
    "    print \"SVM - features computed for all - sliding window {} : \".format(i+1), 1 - zero_one_loss(label_test_tw, preds)"
   ]
  },
  {
   "cell_type": "markdown",
   "metadata": {},
   "source": [
    "## Naïve Bayes"
   ]
  },
  {
   "cell_type": "code",
   "execution_count": null,
   "metadata": {
    "collapsed": true
   },
   "outputs": [],
   "source": [
    "from sklearn.naive_bayes import BernoulliNB\n",
    "from sklearn.naive_bayes import MultinomialNB\n",
    "from sklearn.grid_search import GridSearchCV "
   ]
  },
  {
   "cell_type": "code",
   "execution_count": 8,
   "metadata": {
    "collapsed": false
   },
   "outputs": [
    {
     "name": "stdout",
     "output_type": "stream",
     "text": [
      "('MultinomialNB', '- Best alpha & associated score', {'alpha': 0.0082864277285468416}, 0.90581333333333336)\n",
      "('Score on test_data : ', 0.88624)\n",
      "('BernoulliNB', '- Best alpha & associated score', {'alpha': 0.0026826957952797246}, 0.89648000000000005)\n",
      "('Score on test_data : ', 0.87712)\n"
     ]
    }
   ],
   "source": [
    "alphas = np.logspace(-6, 0, 50)\n",
    "\n",
    "from sklearn.grid_search import GridSearchCV\n",
    "for Model in [MultinomialNB, BernoulliNB]:\n",
    "    gscv = GridSearchCV(Model(), dict(alpha=alphas), cv=10).fit(data_train, label_train)\n",
    "    print(Model.__name__, \"- Best alpha & associated score\", gscv.best_params_, gscv.best_score_)\n",
    "    print(\"Score on test_data : \", score(label_test, gscv.predict(data_test)))"
   ]
  },
  {
   "cell_type": "code",
   "execution_count": 8,
   "metadata": {
    "collapsed": false
   },
   "outputs": [
    {
     "name": "stdout",
     "output_type": "stream",
     "text": [
      "('MultinomialNB', '- Best alpha & associated score', {'alpha': 0.0082864277285468416}, 0.90581333333333336)\n",
      "('Score on test_data : ', 0.88624)\n",
      "('BernoulliNB', '- Best alpha & associated score', {'alpha': 0.0026826957952797246}, 0.89648000000000005)\n",
      "('Score on test_data : ', 0.87712)\n"
     ]
    }
   ],
   "source": [
    "alphas = np.logspace(-6, 0, 50)\n",
    "gscv_all_tw=[]\n",
    "gscv_label_all_tw=[]\n",
    "for i, Model in enumerate([MultinomialNB, BernoulliNB]):\n",
    "    gscv_all_tw[i] = map(\n",
    "        lambda x: GridSearchCV(Model(), dict(alpha=alphas), cv=10, n_jobs=-1).fit(x, label_train_tw), \n",
    "        data_train_all_norm)\n",
    "    gscv_label_all_tw.append(\n",
    "        [gscv_all_tw[i][j].predict(data_test_all_norm[j]) for j in range(len(data_test_all_norm))])    \n",
    "    for k, preds in enumerate(gscv_label_all_tw[i])\n",
    "        print(Model.__name__, \"- Best alpha & associated score\", gscv_label_all_tw[i][k].best_params_, gscv_label_all_tw[i][k].best_score_)\n",
    "        print(\"Naïve Bayes {} :  - sliding window {} : \".format(Model.__name__, k+1), 1 - zero_one_loss(label_test_tw, preds)"
   ]
  },
  {
   "cell_type": "code",
   "execution_count": 15,
   "metadata": {
    "collapsed": false
   },
   "outputs": [
    {
     "name": "stdout",
     "output_type": "stream",
     "text": [
      "('SGD', 'squared_hinge', ' Best alpha and associated score', 'squared_hinge', ': ', {'alpha': 0.0001}, 0.91034666666666664)\n",
      "('Score on test_data : ', 0.90768)\n",
      "('SGD', 'modified_huber', ' Best alpha and associated score', 'modified_huber', ': ', {'alpha': 0.0001}, 0.91039999999999999)\n",
      "('Score on test_data : ', 0.90784)\n"
     ]
    }
   ],
   "source": [
    "#from sklearn import cross_validation\n",
    "from sklearn.linear_model import SGDClassifier \n",
    "\n",
    "alphas = np.logspace(-6, 0, 10)\n",
    "# ADD other param?\n",
    "losses = ['squared_hinge', 'modified_huber']\n",
    "sgd_all_tw=[]\n",
    "sgd_label_all_tw=[]\n",
    "for i, loss in enumerate(losses):\n",
    "    sgd_all_tw[i] = map(lambda x : GridSearchCV(\n",
    "        SGDClassifier(shuffle = True, loss = loss, n_iter= 500), \n",
    "        dict(alpha=alphas), \n",
    "        cv=10, \n",
    "        n_jobs = -1).fit(x, label_train), data_train_all_norm)\n",
    "    sgd_label_all_tw.append(\n",
    "        [sgd_all_tw[i][j].predict(data_test_all_norm[j]) for j in range(len(data_test_all_norm))]\n",
    "    )\n",
    "    for k, preds in enumerate(sgd_label_all_tw[i]):\n",
    "        print(\"SGD -- \", loss, \" Best alpha and associated score : \", sgd_all_tw[i][k].best_params_, sgd_all_tw[i][k].best_score_)\n",
    "        print(\"Score on test_data -- sliding window {}: \".format(k+1), 1 - zero_one_loss(label_test_tw, preds)\n",
    "    "
   ]
  },
  {
   "cell_type": "code",
   "execution_count": 15,
   "metadata": {
    "collapsed": false
   },
   "outputs": [
    {
     "name": "stdout",
     "output_type": "stream",
     "text": [
      "('SGD', 'squared_hinge', ' Best alpha and associated score', 'squared_hinge', ': ', {'alpha': 0.0001}, 0.91034666666666664)\n",
      "('Score on test_data : ', 0.90768)\n",
      "('SGD', 'modified_huber', ' Best alpha and associated score', 'modified_huber', ': ', {'alpha': 0.0001}, 0.91039999999999999)\n",
      "('Score on test_data : ', 0.90784)\n"
     ]
    }
   ],
   "source": [
    "#from sklearn import cross_validation\n",
    "from sklearn.linear_model import SGDClassifier \n",
    "\n",
    "alphas = np.logspace(-6, 0, 10)\n",
    "# ADD other param?\n",
    "losses = ['squared_hinge', 'modified_huber']\n",
    "for loss in losses:\n",
    "    model = SGDClassifier(shuffle = True, loss = loss, n_iter= 500)\n",
    "    gscv = GridSearchCV(model, dict(alpha=alphas), cv=10, n_jobs = -1).fit(data_train, label_train)\n",
    "    print(\"SGD\", loss, \" Best alpha and associated score\", loss, \": \", gscv.best_params_, gscv.best_score_)\n",
    "    print(\"Score on test_data : \", score(label_test, gscv.predict(data_test)))\n",
    "    "
   ]
  }
 ],
 "metadata": {
  "kernelspec": {
   "display_name": "Python 2",
   "language": "python",
   "name": "python2"
  },
  "language_info": {
   "codemirror_mode": {
    "name": "ipython",
    "version": 2
   },
   "file_extension": ".py",
   "mimetype": "text/x-python",
   "name": "python",
   "nbconvert_exporter": "python",
   "pygments_lexer": "ipython2",
   "version": "2.7.11"
  }
 },
 "nbformat": 4,
 "nbformat_minor": 0
}
