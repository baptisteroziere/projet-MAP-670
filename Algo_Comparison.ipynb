{
 "cells": [
  {
   "cell_type": "code",
   "execution_count": 29,
   "metadata": {
    "collapsed": true
   },
   "outputs": [],
   "source": [
    "import sklearn \n",
    "import numpy as np\n",
    "import scipy\n",
    "import csv\n",
    "\n",
    "def load_sparse_csr(filename):\n",
    "    loader = np.load(filename)\n",
    "    return scipy.sparse.csr_matrix(( loader['data'], loader['indices'], loader['indptr']),\n",
    "                     shape = loader['shape'])\n",
    "        \n",
    "def load_csv(filename):\n",
    "    with open(filename, 'r') as csvfile:\n",
    "        reader = csv.reader(csvfile, delimiter = '\\n')\n",
    "        array = [float(row[0]) for row in reader]\n",
    "        return array\n",
    "    \n",
    "def load_feature_names(filename):\n",
    "    with open(filename, 'r') as csvfile:\n",
    "        reader = csv.reader(csvfile, delimiter= '\\n')\n",
    "        array = [row for row in reader]\n",
    "        return array"
   ]
  },
  {
   "cell_type": "code",
   "execution_count": 31,
   "metadata": {
    "collapsed": false
   },
   "outputs": [],
   "source": [
    "data_train = load_sparse_csr('DB_well_tfidf/data_train_well_tfidf.npz')\n",
    "data_test = load_sparse_csr('DB_well_tfidf/data_test_well_tfidf.npz')\n",
    "label_train = load_csv('DB_well_tfidf/label_train_well_tfidf.csv')\n",
    "label_test = load_csv('DB_well_tfidf/label_test_well_tfidf.csv')\n",
    "features_names = load_feature_names('DB_well_tfidf/feature_names_well_tfidf.csv')"
   ]
  },
  {
   "cell_type": "code",
   "execution_count": 32,
   "metadata": {
    "collapsed": true
   },
   "outputs": [],
   "source": [
    "def score(true_label, predicted_label):\n",
    "    length = len(true_label)\n",
    "    total = 0\n",
    "    for i, label in enumerate(true_label):\n",
    "        if label == predicted_label[i]:\n",
    "            total += 1\n",
    "    return float(total)/float(length)"
   ]
  },
  {
   "cell_type": "code",
   "execution_count": 44,
   "metadata": {
    "collapsed": false
   },
   "outputs": [
    {
     "name": "stdout",
     "output_type": "stream",
     "text": [
      "('LogReg - Penalty l1 - Score on test_data : ', 0.87424)\n",
      "('LogReg - Penalty l2 - Score on test_data : ', 0.88592)\n"
     ]
    }
   ],
   "source": [
    "from sklearn.linear_model import LogisticRegression\n",
    "from sklearn import cross_validation\n",
    "\n",
    "alg = LogisticRegression(penalty = 'l1')\n",
    "alg.fit(data_train, label_train)\n",
    "predicted_label = alg.predict(data_test)\n",
    "print(\"LogReg - Penalty l1 - Score on test_data : \", score(label_test, predicted_label))\n",
    "\n",
    "alg = LogisticRegression(penalty = 'l2')\n",
    "alg.fit(data_train, label_train)\n",
    "predicted_label = alg.predict(data_test)\n",
    "print(\"LogReg - Penalty l2 - Score on test_data : \", score(label_test, predicted_label))"
   ]
  },
  {
   "cell_type": "code",
   "execution_count": 45,
   "metadata": {
    "collapsed": false
   },
   "outputs": [
    {
     "name": "stdout",
     "output_type": "stream",
     "text": [
      "('Random Forest - Score on test_data : ', 0.82624)\n"
     ]
    }
   ],
   "source": [
    "from sklearn.ensemble import RandomForestClassifier\n",
    "\n",
    "alg = RandomForestClassifier(random_state=1, n_estimators=30)\n",
    "alg.fit(data_train, label_train)\n",
    "predicted_label = alg.predict(data_test)\n",
    "\n",
    "print(\"Random Forest - Score on test_data : \", score(label_test, predicted_label))"
   ]
  },
  {
   "cell_type": "code",
   "execution_count": 46,
   "metadata": {
    "collapsed": false
   },
   "outputs": [
    {
     "name": "stdout",
     "output_type": "stream",
     "text": [
      "('SVM - Best C & associated score', {'C': 0.69519279617756047}, 0.87434666666666672)\n",
      "('SVM - Score on test_data : ', 0.88064)\n",
      "('SVM - Best C & associated score', {'C': 0.11288378916846889}, 0.88474666666666668)\n",
      "('SVM - Score on test_data : ', 0.88768)\n"
     ]
    }
   ],
   "source": [
    "from sklearn.svm import LinearSVC\n",
    "from sklearn.grid_search import GridSearchCV \n",
    "\n",
    "Cs = {'C': np.logspace(-1, 0, 20)}\n",
    "\n",
    "grid_search = GridSearchCV(LinearSVC(penalty=\"l1\",dual=False), Cs)\n",
    "alg = grid_search.fit(data_train, label_train)\n",
    "predicted_label = alg.predict(data_test)\n",
    "\n",
    "print(\"SVM - Best C & associated score\", grid_search.best_params_, grid_search.best_score_)\n",
    "print(\"SVM - Score on test_data : \", score(label_test, predicted_label))\n",
    "\n",
    "grid_search = GridSearchCV(LinearSVC(penalty=\"l2\",dual=False), Cs)\n",
    "alg = grid_search.fit(data_train, label_train)\n",
    "predicted_label = alg.predict(data_test)\n",
    "\n",
    "print(\"SVM - Best C & associated score\", grid_search.best_params_, grid_search.best_score_)\n",
    "print(\"SVM - Score on test_data : \", score(label_test, predicted_label))"
   ]
  },
  {
   "cell_type": "code",
   "execution_count": null,
   "metadata": {
    "collapsed": true
   },
   "outputs": [],
   "source": []
  }
 ],
 "metadata": {
  "kernelspec": {
   "display_name": "Python 2",
   "language": "python",
   "name": "python2"
  },
  "language_info": {
   "codemirror_mode": {
    "name": "ipython",
    "version": 2
   },
   "file_extension": ".py",
   "mimetype": "text/x-python",
   "name": "python",
   "nbconvert_exporter": "python",
   "pygments_lexer": "ipython2",
   "version": "2.7.10"
  }
 },
 "nbformat": 4,
 "nbformat_minor": 0
}
