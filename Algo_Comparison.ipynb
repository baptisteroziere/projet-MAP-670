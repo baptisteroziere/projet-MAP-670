{
 "cells": [
  {
   "cell_type": "code",
   "execution_count": 1,
   "metadata": {
    "collapsed": true
   },
   "outputs": [],
   "source": [
    "import sklearn \n",
    "import numpy as np\n",
    "import scipy\n",
    "import csv\n",
    "\n",
    "def load_sparse_csr(filename):\n",
    "    loader = np.load(filename)\n",
    "    return scipy.sparse.csr_matrix(( loader['data'], loader['indices'], loader['indptr']),\n",
    "                     shape = loader['shape'])\n",
    "        \n",
    "def load_csv(filename):\n",
    "    with open(filename, 'r') as csvfile:\n",
    "        reader = csv.reader(csvfile, delimiter = '\\n')\n",
    "        array = [float(row[0]) for row in reader]\n",
    "        return array\n",
    "    \n",
    "def load_feature_names(filename):\n",
    "    with open(filename, 'r') as csvfile:\n",
    "        reader = csv.reader(csvfile, delimiter= '\\n')\n",
    "        array = [row for row in reader]\n",
    "        return array"
   ]
  },
  {
   "cell_type": "code",
   "execution_count": 2,
   "metadata": {
    "collapsed": false
   },
   "outputs": [],
   "source": [
    "path = \"simplified_data/\"\n",
    "data_train = load_sparse_csr(path+'data_train.npz')\n",
    "data_test = load_sparse_csr(path+'data_test.npz')\n",
    "label_train = load_csv(path+'label_train.csv')\n",
    "label_test = load_csv(path+'label_test.csv')\n",
    "features_names = load_feature_names('data/feature_names.csv')"
   ]
  },
  {
   "cell_type": "code",
   "execution_count": 3,
   "metadata": {
    "collapsed": true
   },
   "outputs": [],
   "source": [
    "from sklearn.feature_selection.univariate_selection import SelectKBest, chi2, f_classif\n",
    "fselect = SelectKBest(chi2 , k=80000)\n",
    "data_train = fselect.fit_transform(data_train, label_train)\n",
    "data_test = fselect.transform(data_test)"
   ]
  },
  {
   "cell_type": "code",
   "execution_count": 4,
   "metadata": {
    "collapsed": true
   },
   "outputs": [],
   "source": [
    "def score(true_label, predicted_label):\n",
    "    length = len(true_label)\n",
    "    total = 0\n",
    "    for i, label in enumerate(true_label):\n",
    "        if label == predicted_label[i]:\n",
    "            total += 1\n",
    "    return float(total)/float(length)"
   ]
  },
  {
   "cell_type": "code",
   "execution_count": 5,
   "metadata": {
    "collapsed": false
   },
   "outputs": [
    {
     "name": "stdout",
     "output_type": "stream",
     "text": [
      "('LogReg - Penalty l1 - Score on test_data : ', 0.8632)\n",
      "('LogReg - Penalty l2 - Score on test_data : ', 0.8944)\n"
     ]
    }
   ],
   "source": [
    "from sklearn.linear_model import LogisticRegression\n",
    "from sklearn import cross_validation\n",
    "\n",
    "alg = LogisticRegression(penalty = 'l1')\n",
    "alg.fit(data_train, label_train)\n",
    "predicted_label = alg.predict(data_test)\n",
    "print(\"LogReg - Penalty l1 - Score on test_data : \", score(label_test, predicted_label))\n",
    "\n",
    "alg = LogisticRegression(penalty = 'l2')\n",
    "alg.fit(data_train, label_train)\n",
    "predicted_label = alg.predict(data_test)\n",
    "print(\"LogReg - Penalty l2 - Score on test_data : \", score(label_test, predicted_label))"
   ]
  },
  {
   "cell_type": "code",
   "execution_count": 6,
   "metadata": {
    "collapsed": false
   },
   "outputs": [
    {
     "name": "stdout",
     "output_type": "stream",
     "text": [
      "('Random Forest - Score on test_data : ', 0.81904)\n"
     ]
    }
   ],
   "source": [
    "from sklearn.ensemble import RandomForestClassifier\n",
    "\n",
    "alg = RandomForestClassifier(random_state=1, n_estimators=30)\n",
    "alg.fit(data_train, label_train)\n",
    "predicted_label = alg.predict(data_test)\n",
    "\n",
    "print(\"Random Forest - Score on test_data : \", score(label_test, predicted_label))"
   ]
  },
  {
   "cell_type": "code",
   "execution_count": 7,
   "metadata": {
    "collapsed": false
   },
   "outputs": [
    {
     "name": "stdout",
     "output_type": "stream",
     "text": [
      "('SVM - Best C & associated score', {'C': 1.0}, 0.88362666666666667)\n",
      "('SVM - Score on test_data : ', 0.88768)\n",
      "('SVM - Best C & associated score', {'C': 1.0}, 0.90725333333333336)\n",
      "('SVM - Score on test_data : ', 0.9064)\n"
     ]
    }
   ],
   "source": [
    "from sklearn.svm import LinearSVC\n",
    "from sklearn.grid_search import GridSearchCV \n",
    "\n",
    "Cs = {'C': np.logspace(-1, 0, 20)}\n",
    "\n",
    "grid_search = GridSearchCV(LinearSVC(penalty=\"l1\",dual=False), Cs)\n",
    "alg = grid_search.fit(data_train, label_train)\n",
    "predicted_label = alg.predict(data_test)\n",
    "\n",
    "print(\"SVM - Best C & associated score\", grid_search.best_params_, grid_search.best_score_)\n",
    "print(\"SVM - Score on test_data : \", score(label_test, predicted_label))\n",
    "\n",
    "grid_search = GridSearchCV(LinearSVC(penalty=\"l2\",dual=False), Cs)\n",
    "alg = grid_search.fit(data_train, label_train)\n",
    "predicted_label = alg.predict(data_test)\n",
    "\n",
    "print(\"SVM - Best C & associated score\", grid_search.best_params_, grid_search.best_score_)\n",
    "print(\"SVM - Score on test_data : \", score(label_test, predicted_label))"
   ]
  },
  {
   "cell_type": "code",
   "execution_count": 8,
   "metadata": {
    "collapsed": false
   },
   "outputs": [
    {
     "name": "stdout",
     "output_type": "stream",
     "text": [
      "('MultinomialNB', '- Best alpha & associated score', {'alpha': 0.0082864277285468416}, 0.90581333333333336)\n",
      "('Score on test_data : ', 0.88624)\n",
      "('BernoulliNB', '- Best alpha & associated score', {'alpha': 0.0026826957952797246}, 0.89648000000000005)\n",
      "('Score on test_data : ', 0.87712)\n"
     ]
    }
   ],
   "source": [
    "from sklearn.naive_bayes import BernoulliNB\n",
    "from sklearn.naive_bayes import MultinomialNB\n",
    "from sklearn.grid_search import GridSearchCV \n",
    "\n",
    "alphas = np.logspace(-6, 0, 50)\n",
    "\n",
    "from sklearn.grid_search import GridSearchCV\n",
    "for Model in [MultinomialNB, BernoulliNB]:\n",
    "    gscv = GridSearchCV(Model(), dict(alpha=alphas), cv=10).fit(data_train, label_train)\n",
    "    print(Model.__name__, \"- Best alpha & associated score\", gscv.best_params_, gscv.best_score_)\n",
    "    print(\"Score on test_data : \", score(label_test, gscv.predict(data_test)))"
   ]
  },
  {
   "cell_type": "code",
   "execution_count": 35,
   "metadata": {
    "collapsed": false
   },
   "outputs": [
    {
     "name": "stdout",
     "output_type": "stream",
     "text": [
      "('SGD - Score on test_data with loss ', 'squared_hinge', ': ', 0.90784)\n",
      "('penalized SGD - Score on test_data with loss ', 'squared_hinge', ': ', 0.90768)\n",
      "('SGD - Score on test_data with loss ', 'perceptron', ': ', 0.8808)\n",
      "('penalized SGD - Score on test_data with loss ', 'perceptron', ': ', 0.88608)\n",
      "('SGD - Score on test_data with loss ', 'modified_huber', ': ', 0.90784)\n",
      "('penalized SGD - Score on test_data with loss ', 'modified_huber', ': ', 0.90784)\n"
     ]
    }
   ],
   "source": [
    "#from sklearn import cross_validation\n",
    "from sklearn.linear_model import SGDClassifier \n",
    "\n",
    "# ADD other param?\n",
    "losses = ['squared_hinge', 'perceptron', 'modified_huber']\n",
    "for loss in losses:\n",
    "    alg = SGDClassifier(shuffle = True, loss = loss, n_iter= 500)\n",
    "    alg2 = SGDClassifier(shuffle = True, loss = loss, n_iter= 500, penalty=\"l2\")\n",
    "    alg.fit(data_train, label_train)\n",
    "    predicted_label = alg.predict(data_test)\n",
    "    alg2.fit(data_train, label_train)\n",
    "    predicted_label2 = alg2.predict(data_test)\n",
    "\n",
    "    # Take the mean of the scores (because we have one for each fold)\n",
    "    #scores = cross_validation.cross_val_score(alg, data_train, label_train, cv=10)\n",
    "    #print(\"SGD - Mean score on cross val\", scores.mean())\n",
    "    print(\"SGD - Score on test_data with loss \", loss, \": \", score(predicted_label, label_test))\n",
    "    #print(\"SGD - Score on train_data : \", score(alg.predict(data_train), label_train))\n",
    "    print(\"penalized SGD - Score on test_data with loss \", loss, \": \", score(predicted_label2, label_test))\n",
    "    #print(\"penalized SGD - Score on train_data : \", score(alg2.predict(data_train), label_train))"
   ]
  }
 ],
 "metadata": {
  "kernelspec": {
   "display_name": "Python 2",
   "language": "python",
   "name": "python2"
  },
  "language_info": {
   "codemirror_mode": {
    "name": "ipython",
    "version": 2
   },
   "file_extension": ".py",
   "mimetype": "text/x-python",
   "name": "python",
   "nbconvert_exporter": "python",
   "pygments_lexer": "ipython2",
   "version": "2.7.11"
  }
 },
 "nbformat": 4,
 "nbformat_minor": 0
}
