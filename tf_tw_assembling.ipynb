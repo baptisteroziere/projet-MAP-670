{
 "cells": [
  {
   "cell_type": "code",
   "execution_count": 1,
   "metadata": {
    "collapsed": true
   },
   "outputs": [],
   "source": [
    "import sklearn \n",
    "import numpy as np\n",
    "import scipy\n",
    "import csv\n",
    "\n",
    "def load_sparse_csr(filename):\n",
    "    loader = np.load(filename)\n",
    "    return scipy.sparse.csr_matrix(( loader['data'], loader['indices'], loader['indptr']),\n",
    "                     shape = loader['shape'])\n",
    "        \n",
    "def load_csv(filename):\n",
    "    with open(filename, 'r') as csvfile:\n",
    "        reader = csv.reader(csvfile, delimiter = '\\n')\n",
    "        array = [float(row[0]) for row in reader]\n",
    "        return array\n",
    "    \n",
    "def load_feature_names(filename):\n",
    "    with open(filename, 'r') as csvfile:\n",
    "        reader = csv.reader(csvfile, delimiter= '\\n')\n",
    "        array = [row for row in reader]\n",
    "        return array\n",
    "    \n",
    "def load_sparse_coo(filename):\n",
    "    loader = np.load(filename)\n",
    "    return scipy.sparse.coo_matrix((loader['data'],(loader['row'],loader['col'])),\n",
    "                     shape = loader['shape'])"
   ]
  },
  {
   "cell_type": "code",
   "execution_count": 2,
   "metadata": {
    "collapsed": true
   },
   "outputs": [],
   "source": [
    "path = \"simplified_data/\"\n",
    "data_train = load_sparse_csr(path+'data_train.npz')\n",
    "data_test = load_sparse_csr(path+'data_test.npz')\n",
    "label_train = load_csv(path+'label_train.csv')\n",
    "label_test = load_csv(path+'label_test.csv')\n",
    "features_names = load_feature_names('data/feature_names.csv')"
   ]
  },
  {
   "cell_type": "code",
   "execution_count": 24,
   "metadata": {
    "collapsed": true
   },
   "outputs": [],
   "source": [
    "from sklearn.metrics import zero_one_loss\n",
    "def score(true_label, predicted_label):\n",
    "    return 1 - zero_one_loss(true_label,predicted_label)"
   ]
  },
  {
   "cell_type": "code",
   "execution_count": 4,
   "metadata": {
    "collapsed": false
   },
   "outputs": [],
   "source": [
    "data_train_all = [load_sparse_csr('tw_sw{}_all_train_train.npz'.format(k)) for k in range(1,6)]\n",
    "data_test_all = [load_sparse_csr('tw_sw{}_all_train_test.npz'.format(k)) for k in range(1,6)]\n",
    "data_train_sep = [load_sparse_coo('tw_sw{}_train_train.npz'.format(k)) for k in range(1,6)]\n",
    "data_test_sep = [load_sparse_coo('tw_sw{}_train_test.npz'.format(k)) for k in range(1,6)]"
   ]
  },
  {
   "cell_type": "code",
   "execution_count": 5,
   "metadata": {
    "collapsed": true
   },
   "outputs": [],
   "source": [
    "label_train_tw = load_csv('labels_train_train.csv')\n",
    "label_test_tw = load_csv('labels_train_test.csv')"
   ]
  },
  {
   "cell_type": "code",
   "execution_count": 6,
   "metadata": {
    "collapsed": true
   },
   "outputs": [],
   "source": [
    "from sklearn.feature_selection.univariate_selection import SelectKBest, chi2, f_classif\n",
    "fselect = SelectKBest(chi2 , k=80000)\n",
    "data_train = fselect.fit_transform(data_train, label_train)\n",
    "data_test = fselect.transform(data_test)\n"
   ]
  },
  {
   "cell_type": "code",
   "execution_count": 7,
   "metadata": {
    "collapsed": true
   },
   "outputs": [],
   "source": [
    "from sklearn.preprocessing import MaxAbsScaler\n",
    "normalizer_all = map(lambda x: MaxAbsScaler().fit(x), data_train_all)\n",
    "normalizer_sep = map(lambda x: MaxAbsScaler().fit(x), data_train_sep)\n",
    "\n",
    "scaler =MaxAbsScaler()\n",
    "scaler.partial_fit(data_test)\n",
    "scaler.partial_fit(data_train)\n",
    "scaler.transform(data_test)\n",
    "scaler.transform(data_train)\n",
    "\n",
    "data_train_all_norm = [normalizer_all[i].transform(data_train_all[i]) for i in range(len(data_train_all))]\n",
    "data_test_all_norm = [normalizer_all[i].transform(data_test_all[i]) for i in range(len(data_test_all))]\n",
    "data_train_sep_norm = [normalizer_sep[i].transform(data_train_sep[i]) for i in range(len(data_train_sep))]\n",
    "data_test_sep_norm = [normalizer_sep[i].transform(data_test_sep[i]) for i in range(len(data_test_sep))]"
   ]
  },
  {
   "cell_type": "code",
   "execution_count": 16,
   "metadata": {
    "collapsed": false
   },
   "outputs": [],
   "source": [
    "SelectKBest(f_classif , k=data_train_all[0].shape[1]/100).fit(data_train_all[0],label_train_tw)\n",
    "fselect_all = [SelectKBest(f_classif , k=data_train_all[i].shape[1]/100).fit(\n",
    "        data_train_all[i],label_train_tw) for i in range(len(data_train_all))]\n",
    "fselect_sep = [SelectKBest(f_classif , k=data_train_sep[i].shape[1]/100).fit(\n",
    "        data_train_sep[i], label_train_tw) for i in range(len(data_train_sep))]\n",
    "data_train_all_selec = [fselect_all[i].transform(data_train_all[i]) for i in range(len(data_train_all))]\n",
    "data_test_all_selec = [fselect_all[i].transform(data_test_all[i]) for i in range(len(data_test_all))]\n",
    "\n",
    "data_train_sep_selec = [fselect_sep[i].transform(data_train_sep[i]) for i in range(len(data_train_sep))]\n",
    "data_test_sep_selec = [fselect_sep[i].transform(data_test_sep[i]) for i in range(len(data_test_sep))]\n",
    "fselect_all_norm = [SelectKBest(f_classif , k=data_train_all_norm[i].shape[1]/100).fit(\n",
    "        data_train_all_norm[i],label_train_tw) for i in range(len(data_train_all_norm))]\n",
    "fselect_sep_norm = [SelectKBest(f_classif , k=data_train_sep[i].shape[1]/100).fit(\n",
    "        data_train_sep_norm[i], label_train_tw) for i in range(len(data_train_sep_norm))]\n",
    "\n",
    "data_train_all_norm_selec = [fselect_all_norm[i].transform(\n",
    "        data_train_all_norm[i]) for i in range(len(data_train_all_norm))]\n",
    "data_test_all_norm_selec = [fselect_all_norm[i].transform(\n",
    "        data_test_all_norm[i]) for i in range(len(data_test_all_norm))]\n",
    "data_train_sep_norm_selec = [fselect_sep_norm[i].transform(\n",
    "        data_train_sep_norm[i]) for i in range(len(data_train_sep_norm))]\n",
    "data_test_sep_norm_selec = [fselect_sep_norm[i].transform(\n",
    "        data_test_sep_norm[i]) for i in range(len(data_test_sep_norm))]\n",
    "\n",
    "data_train_tw = data_train_all_norm [3]\n",
    "data_test_tw = data_test_all_norm [3]"
   ]
  },
  {
   "cell_type": "markdown",
   "metadata": {},
   "source": [
    "# One classifier"
   ]
  },
  {
   "cell_type": "code",
   "execution_count": null,
   "metadata": {
    "collapsed": false
   },
   "outputs": [],
   "source": [
    "Cs = {'C': np.logspace(-1, 3, 30)}\n",
    "from sklearn.grid_search import GridSearchCV\n",
    "from sklearn.linear_model import LogisticRegression\n",
    "\n",
    "lr_tf = GridSearchCV(LogisticRegression(penalty = 'l2'), Cs, n_jobs = -1)\n",
    "lr_tf = grid_search.fit(data_train, label_train)\n",
    "predicted_label_lr_tf = lr_tf.predict(data_test)\n",
    "\n",
    "print(\"SVM - Best C & associated score\", lr_tf.best_params_, lr_tf.best_score_)\n",
    "print(\"SVM - Score on test_data : \", score(label_test, predicted_label_lr_tf))"
   ]
  },
  {
   "cell_type": "code",
   "execution_count": 48,
   "metadata": {
    "collapsed": false
   },
   "outputs": [
    {
     "name": "stdout",
     "output_type": "stream",
     "text": [
      "('SVM - Best C & associated score', {'C': 0.6723357536499337}, 0.87669333333333332)\n",
      "('SVM - Score on test_data : ', 0.88624000000000003)\n"
     ]
    }
   ],
   "source": [
    "Cs = {'C': np.logspace(-1, 3, 30)}\n",
    "from sklearn.grid_search import GridSearchCV\n",
    "from sklearn.linear_model import LogisticRegression\n",
    "\n",
    "lr_tw = GridSearchCV(LogisticRegression(penalty = 'l2'), Cs, n_jobs = -1)\n",
    "lr_tw = grid_search.fit(data_train_tw, label_train_tw)\n",
    "predicted_label_lr_tw = lr_tw.predict(data_test_tw)\n",
    "\n",
    "print(\"SVM - Best C & associated score\", lr_tw.best_params_, lr_tw.best_score_)\n",
    "print(\"SVM - Score on test_data : \", score(label_test, predicted_label_lr_tw))"
   ]
  },
  {
   "cell_type": "code",
   "execution_count": 6,
   "metadata": {
    "collapsed": false
   },
   "outputs": [
    {
     "name": "stdout",
     "output_type": "stream",
     "text": [
      "0.8944\n"
     ]
    }
   ],
   "source": [
    "from sklearn.linear_model import LogisticRegression\n",
    "\n",
    "alg1 = LogisticRegression(penalty = 'l2')\n",
    "alg1.fit(data_train, label_train)\n",
    "predicted_label1 = alg1.predict(data_test)\n",
    "probability1 = alg1.predict_proba(data_test)\n",
    "\n",
    "print(score(predicted_label1, label_test))"
   ]
  },
  {
   "cell_type": "code",
   "execution_count": 30,
   "metadata": {
    "collapsed": false
   },
   "outputs": [
    {
     "name": "stdout",
     "output_type": "stream",
     "text": [
      "0.90784\n"
     ]
    }
   ],
   "source": [
    "from sklearn.linear_model import SGDClassifier\n",
    "\n",
    "alg2 = SGDClassifier(loss='modified_huber', n_iter=400, random_state=0, shuffle=True)\n",
    "alg2.fit( data_train, label_train )\n",
    "predicted_label = alg2.predict(data_test)\n",
    "print(score(label_test, predicted_label))"
   ]
  },
  {
   "cell_type": "code",
   "execution_count": 31,
   "metadata": {
    "collapsed": false
   },
   "outputs": [
    {
     "name": "stdout",
     "output_type": "stream",
     "text": [
      "('linear svc  - Score on test_data : ', 0.90688000000000002)\n",
      "('Bernouilli Naive Bayes - Score on train_data : ', 0.99370666666666663)\n"
     ]
    }
   ],
   "source": [
    "from sklearn.svm import LinearSVC\n",
    "from sklearn import cross_validation\n",
    "alg3 = LinearSVC(penalty=\"l2\",dual=False, C=0.48329302385717521)\n",
    "alg3.fit(data_train, label_train)\n",
    "predicted_label = alg3.predict(data_test)\n",
    "\n",
    "# Take the mean of the scores (because we have one for each fold)\n",
    "#scores = cross_validation.cross_val_score(alg, data_train, label_train, cv=10)\n",
    "#print(\"linear svc - Mean score on cross val\", scores.mean())\n",
    "print(\"linear svc  - Score on test_data : \", score(predicted_label, label_test))\n",
    "print(\"Bernouilli Naive Bayes - Score on train_data : \", score(alg3.predict(data_train), label_train))"
   ]
  },
  {
   "cell_type": "code",
   "execution_count": 32,
   "metadata": {
    "collapsed": false
   },
   "outputs": [
    {
     "name": "stdout",
     "output_type": "stream",
     "text": [
      "('MNB  - Score on test_data : ', 0.88624000000000003)\n",
      "('MNB - Score on train_data : ', 0.95498666666666665)\n"
     ]
    }
   ],
   "source": [
    "from sklearn.naive_bayes import MultinomialNB\n",
    "from sklearn import cross_validation\n",
    "alg4 = MultinomialNB(alpha = 0.0082864277285468416)\n",
    "alg4.fit(data_train, label_train)\n",
    "predicted_label = alg4.predict(data_test)\n",
    "\n",
    "# Take the mean of the scores (because we have one for each fold)\n",
    "#scores = cross_validation.cross_val_score(alg, data_train, label_train, cv=10)\n",
    "#print(\"linear svc - Mean score on cross val\", scores.mean())\n",
    "print(\"MNB  - Score on test_data : \", score(predicted_label, label_test))\n",
    "print(\"MNB - Score on train_data : \", score(alg4.predict(data_train), label_train))"
   ]
  },
  {
   "cell_type": "code",
   "execution_count": 50,
   "metadata": {
    "collapsed": false
   },
   "outputs": [],
   "source": [
    "def error_similarity(predicted_label_SGD, predicted_label_SVM):\n",
    "    ref_diff =0\n",
    "    all_diff =0\n",
    "\n",
    "    for i, label in enumerate(predicted_label_SGD):\n",
    "        if(label != label_test[i]):\n",
    "            ref_diff+=1\n",
    "            if(label_test[i] != predicted_label_SVM[i]):\n",
    "                all_diff+=1\n",
    "    return ref_diff, all_diff, float(all_diff)/ref_diff *100"
   ]
  },
  {
   "cell_type": "code",
   "execution_count": null,
   "metadata": {
    "collapsed": false
   },
   "outputs": [],
   "source": [
    "predicted_label_SGD = alg2.predict(data_test)\n",
    "predicted_label_SVM = alg3.predict(data_test)\n",
    "predicted_label_lr_tf = lr_tf.predict(data_test)\n",
    "print error_similarity(predicted_label_SGD, predicted_label_SVM)\n",
    "print error_similarity(predicted_label_SGD, predicted_label_lr_tw)"
   ]
  },
  {
   "cell_type": "markdown",
   "metadata": {},
   "source": [
    "# Majority Vote"
   ]
  },
  {
   "cell_type": "code",
   "execution_count": 10,
   "metadata": {
    "collapsed": false
   },
   "outputs": [
    {
     "name": "stdout",
     "output_type": "stream",
     "text": [
      "('Majority vote  - Score on test_data : ', 0.90688)\n",
      "('Majority vote - Score on train_data : ', 0.9937066666666666)\n"
     ]
    }
   ],
   "source": [
    "from sklearn.ensemble import VotingClassifier\n",
    "mv = VotingClassifier(estimators=[('lr', alg1), ('sgd', alg2), ('svm', alg3),('mnb', alg4)], voting='hard',weights=[1,1,1,0])\n",
    "mv.fit(data_train, label_train)\n",
    "predicted_label = mv.predict(data_test)\n",
    "\n",
    "# Take the mean of the scores (because we have one for each fold)\n",
    "#scores = cross_validation.cross_val_score(alg, data_train, label_train, cv=10)\n",
    "#print(\"linear svc - Mean score on cross val\", scores.mean())\n",
    "print(\"Majority vote  - Score on test_data : \", score(predicted_label, label_test))\n",
    "print(\"Majority vote - Score on train_data : \", score(mv.predict(data_train), label_train))"
   ]
  },
  {
   "cell_type": "markdown",
   "metadata": {},
   "source": [
    "# Average Probability"
   ]
  },
  {
   "cell_type": "code",
   "execution_count": 11,
   "metadata": {
    "collapsed": false
   },
   "outputs": [
    {
     "name": "stdout",
     "output_type": "stream",
     "text": [
      "('AV  - Score on test_data : ', 0.90304)\n",
      "('AV - Score on train_data : ', 0.9809066666666667)\n"
     ]
    }
   ],
   "source": [
    "from sklearn.ensemble import VotingClassifier\n",
    "ap = VotingClassifier(estimators=[('lr', alg1), ('sgd', alg2)], voting = 'soft', weights=[1,1]) #should normally be used on well-calibrated classifiers (not the case here)\n",
    "ap.fit(data_train, label_train)\n",
    "predicted_label = ap.predict(data_test)\n",
    "\n",
    "# Take the mean of the scores (because we have one for each fold)\n",
    "#scores = cross_validation.cross_val_score(alg, data_train, label_train, cv=10)\n",
    "#print(\"linear svc - Mean score on cross val\", scores.mean())\n",
    "print(\"AV  - Score on test_data : \", score(predicted_label, label_test))\n",
    "print(\"AV - Score on train_data : \", score(ap.predict(data_train), label_train))"
   ]
  },
  {
   "cell_type": "code",
   "execution_count": null,
   "metadata": {
    "collapsed": true
   },
   "outputs": [],
   "source": []
  }
 ],
 "metadata": {
  "kernelspec": {
   "display_name": "Python 2",
   "language": "python",
   "name": "python2"
  },
  "language_info": {
   "codemirror_mode": {
    "name": "ipython",
    "version": 2
   },
   "file_extension": ".py",
   "mimetype": "text/x-python",
   "name": "python",
   "nbconvert_exporter": "python",
   "pygments_lexer": "ipython2",
   "version": "2.7.11"
  }
 },
 "nbformat": 4,
 "nbformat_minor": 0
}
