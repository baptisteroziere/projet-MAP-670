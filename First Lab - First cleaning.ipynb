{
 "cells": [
  {
   "cell_type": "markdown",
   "metadata": {},
   "source": [
    "## LOAD THE DATA"
   ]
  },
  {
   "cell_type": "code",
   "execution_count": 5,
   "metadata": {
    "collapsed": false
   },
   "outputs": [],
   "source": [
    "\n",
    "import csv\n",
    "\n",
    "# To process with another file, change the file name\n",
    "with open('movie_reviews.csv', 'r', encoding=\"utf8\") as csv_file:\n",
    "    read = csv.reader(csv_file, delimiter = ',', quotechar = '\"')\n",
    "    \n",
    "    # Initialize reviews and data\n",
    "    # The reviews are the observations, labels are ... straighforward\n",
    "    reviews = []\n",
    "    labels = []\n",
    "    \n",
    "    # Fill in reviews and data\n",
    "    for row in read: \n",
    "        if row[0] and row[1]:\n",
    "            reviews.append(row[0])\n",
    "            label = 1 if row[1].lower() == 'positive' else -1\n",
    "            labels.append(label)"
   ]
  },
  {
   "cell_type": "markdown",
   "metadata": {},
   "source": [
    "## Data preprocessing with NLTK\n"
   ]
  },
  {
   "cell_type": "code",
   "execution_count": 6,
   "metadata": {
    "collapsed": false
   },
   "outputs": [],
   "source": [
    "# Remove punctuation, lower all characters\n",
    "# exclude = {',' ,'+', '<', ':', '/', ']', '(', ')', '{', '\"', '_', '?', '@', '}', ...}\n",
    "import string\n",
    "exclude = set(string.punctuation)\n",
    "for review in reviews:\n",
    "    review = ''.join([w for w in review.lower() if w not in exclude])"
   ]
  },
  {
   "cell_type": "code",
   "execution_count": 7,
   "metadata": {
    "collapsed": false
   },
   "outputs": [],
   "source": [
    "# Remove stop words based on the given list - To be changed depending on the needs\n",
    "from nltk.corpus import stopwords\n",
    "stopwords = stopwords.words(\"english\")\n",
    "for review in reviews:\n",
    "    review = ''.join([w for w in review if w not in stopwords])"
   ]
  },
  {
   "cell_type": "code",
   "execution_count": 8,
   "metadata": {
    "collapsed": true
   },
   "outputs": [],
   "source": [
    "# Steeming -> Reduce words to their initial mining\n",
    "from nltk.stem.porter import *\n",
    "stemmer = PorterStemmer()\n",
    "for review in reviews:\n",
    "    review = stemmer.stem(review)"
   ]
  },
  {
   "cell_type": "markdown",
   "metadata": {},
   "source": [
    "## Tfidf Mtrix"
   ]
  },
  {
   "cell_type": "code",
   "execution_count": 41,
   "metadata": {
    "collapsed": false
   },
   "outputs": [
    {
     "name": "stdout",
     "output_type": "stream",
     "text": [
      "Size of the tfidf matrix:  267478\n"
     ]
    }
   ],
   "source": [
    "# Features extraction with TF - IDF : get the matrix\n",
    "from sklearn.feature_extraction.text import TfidfVectorizer\n",
    "import numpy as np\n",
    "\n",
    "m = TfidfVectorizer()\n",
    "tfidf_matrix = m.fit_transform(reviews)\n",
    "\n",
    "print(\"Size of the tfidf matrix: \", tfidf_matrix.size)"
   ]
  },
  {
   "cell_type": "code",
   "execution_count": 42,
   "metadata": {
    "collapsed": false
   },
   "outputs": [],
   "source": [
    "# Split the tf-idf matrix into two data sets to process the cross validation : training and test set\n",
    "from sklearn.cross_validation import train_test_split\n",
    "\n",
    "data_train, data_test, label_train, label_test = train_test_split(tfidf_matrix, labels, test_size = 0.4, random_state = 42)"
   ]
  },
  {
   "cell_type": "markdown",
   "metadata": {
    "collapsed": true
   },
   "source": [
    "## Select the appropriate classification (Neural Network, SVM, Bayesian classifier, Decision Trees, ...) to train the model\n",
    "## Here : Logistic regression and Random Forests"
   ]
  },
  {
   "cell_type": "code",
   "execution_count": 43,
   "metadata": {
    "collapsed": false
   },
   "outputs": [],
   "source": [
    "# Test 1 : Logistic Regression Classifier\n",
    "\n",
    "# Model initialization \n",
    "from sklearn.linear_model import LogisticRegression\n",
    "clf = LogisticRegression()\n",
    "\n",
    "# Fit the model to the training dataset\n",
    "y_score = clf.fit(data_train, label_train).predict_proba(data_test)\n",
    "\n",
    "# Perform classification on the test dataset\n",
    "label_predicted = clf.predict(data_test)"
   ]
  },
  {
   "cell_type": "code",
   "execution_count": 44,
   "metadata": {
    "collapsed": false
   },
   "outputs": [
    {
     "name": "stdout",
     "output_type": "stream",
     "text": [
      "The accuracy score is 80.10%\n"
     ]
    }
   ],
   "source": [
    "# Evaluate the prediction\n",
    "from sklearn.metrics import classification_report, accuracy_score\n",
    "classification_report(label_test, label_predicted)\n",
    "\n",
    "print('The accuracy score is {:.2%}'.format(accuracy_score(label_test, label_predicted)))"
   ]
  },
  {
   "cell_type": "markdown",
   "metadata": {
    "collapsed": true
   },
   "source": [
    "## Get the results : Recall, precision & F1-score"
   ]
  },
  {
   "cell_type": "code",
   "execution_count": 51,
   "metadata": {
    "collapsed": false
   },
   "outputs": [
    {
     "name": "stdout",
     "output_type": "stream",
     "text": [
      "Area Under the Curve:  0.801053118023\n"
     ]
    }
   ],
   "source": [
    "# ROC curve and Area Under the Curve\n",
    "from sklearn.metrics import roc_curve, auc\n",
    "import matplotlib.pyplot as plt\n",
    "\n",
    "fpr, tpr, thresholds = roc_curve(label_test, label_predicted)\n",
    "roc_auc = auc(fpr, tpr)\n",
    "\n",
    "print(\"Area Under the Curve: \", roc_auc)\n",
    "\n",
    "#Plot of the AUC\n",
    "plt.clf\n",
    "plt.plot(fpr, tpr, label = 'ROC Curve (Area = {:.2%})'.format(roc_auc))\n",
    "plt.plot([0,1], [0,1], 'k--')\n",
    "plt.xlim([0.0, 1.0])\n",
    "plt.ylim([0.0, 1.0])\n",
    "plt.xlabel('False Positive Rate')\n",
    "plt.ylabel('True Positive Rate')\n",
    "plt.title('Receiver operating characteristic example')\n",
    "plt.legend(loc = \"lower right\")\n",
    "plt.show()"
   ]
  },
  {
   "cell_type": "markdown",
   "metadata": {},
   "source": [
    "## Test 2 : Random Forest"
   ]
  },
  {
   "cell_type": "code",
   "execution_count": 62,
   "metadata": {
    "collapsed": false
   },
   "outputs": [
    {
     "name": "stdout",
     "output_type": "stream",
     "text": [
      "The accuracy score for 5 is 61.86%\n",
      "The accuracy score for 10 is 66.84%\n",
      "The accuracy score for 20 is 73.09%\n",
      "The accuracy score for 50 is 73.98%\n",
      "The accuracy score for 100 is 77.68%\n",
      "The accuracy score for 200 is 76.66%\n",
      "The accuracy score for 400 is 78.95%\n"
     ]
    }
   ],
   "source": [
    "from sklearn.ensemble import RandomForestClassifier\n",
    "\n",
    "rf = []\n",
    "n_est = [5,10,20,50,100,200,400]\n",
    "label_predicted = []\n",
    "for i, n in enumerate(n_est):\n",
    "    rf.append(RandomForestClassifier(n_estimators=n))\n",
    "    rf[i] = rf[i].fit(data_train, label_train)\n",
    "    label_predicted.append(rf[i].predict(data_test))\n",
    "    classification_report(label_test, label_predicted[i])\n",
    "    print('The accuracy score for {} is {:.2%}'.format(n, accuracy_score(label_test, label_predicted[i])))"
   ]
  },
  {
   "cell_type": "markdown",
   "metadata": {},
   "source": [
    "## Test 3 : Decision Trees"
   ]
  },
  {
   "cell_type": "code",
   "execution_count": 68,
   "metadata": {
    "collapsed": false
   },
   "outputs": [
    {
     "name": "stdout",
     "output_type": "stream",
     "text": [
      "The accuracy score is 67.47%\n"
     ]
    }
   ],
   "source": [
    "from sklearn.tree import DecisionTreeClassifier\n",
    "\n",
    "clf = DecisionTreeClassifier()\n",
    "clf = clf.fit(data_train, label_train)\n",
    "label_predicted_3 = clf.predict(data_test)\n",
    "\n",
    "classification_report(label_test, label_predicted_3)\n",
    "\n",
    "print('The accuracy score is {:.2%}'.format(accuracy_score(label_test, label_predicted_3)))"
   ]
  },
  {
   "cell_type": "markdown",
   "metadata": {},
   "source": [
    "## Test 4 : Extra Tree Classifier"
   ]
  },
  {
   "cell_type": "code",
   "execution_count": 69,
   "metadata": {
    "collapsed": false
   },
   "outputs": [
    {
     "name": "stdout",
     "output_type": "stream",
     "text": [
      "The accuracy score is 68.49%\n"
     ]
    }
   ],
   "source": [
    "from sklearn.ensemble import ExtraTreesClassifier\n",
    "\n",
    "clf = ExtraTreesClassifier()\n",
    "clf = clf.fit(data_train, label_train)\n",
    "\n",
    "label_predicted_4 = clf.predict(data_test)\n",
    "\n",
    "classification_report(label_test, label_predicted_4)\n",
    "print('The accuracy score is {:.2%}'.format(accuracy_score(label_test, label_predicted_4)))"
   ]
  },
  {
   "cell_type": "code",
   "execution_count": null,
   "metadata": {
    "collapsed": true
   },
   "outputs": [],
   "source": []
  }
 ],
 "metadata": {
  "kernelspec": {
   "display_name": "Python 3",
   "language": "python",
   "name": "python3"
  },
  "language_info": {
   "codemirror_mode": {
    "name": "ipython",
    "version": 3
   },
   "file_extension": ".py",
   "mimetype": "text/x-python",
   "name": "python",
   "nbconvert_exporter": "python",
   "pygments_lexer": "ipython3",
   "version": "3.4.3"
  }
 },
 "nbformat": 4,
 "nbformat_minor": 0
}
