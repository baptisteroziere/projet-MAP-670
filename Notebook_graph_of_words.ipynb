{
 "cells": [
  {
   "cell_type": "code",
   "execution_count": 1,
   "metadata": {
    "collapsed": true
   },
   "outputs": [],
   "source": [
    "import networkx as nx\n",
    "import string\n",
    "from sys import maxint\n",
    "import pandas as pd\n",
    "import numpy as np\n",
    "import time\n",
    "import re\n",
    "import os.path\n",
    "import math"
   ]
  },
  {
   "cell_type": "code",
   "execution_count": 2,
   "metadata": {
    "collapsed": true
   },
   "outputs": [],
   "source": [
    "#num_documents: number of documents\n",
    "#clean_train_documents: the collection\n",
    "#unique_words: list of all the words we found \n",
    "#sliding_window: window size\n",
    "#train_par: if true we are in the training documents\n",
    "#idf_learned\n",
    "def createGraphFeatures(num_documents,clean_train_documents,unique_words,sliding_window,train_par,idf_learned):\n",
    "\tfeatures = np.zeros((num_documents,len(unique_words)))#where we are going to put the features\n",
    "\tunique_words_len = len(unique_words)\n",
    "\tterm_num_docs = {} #dictionay of each word with a count of that word through out the collections\n",
    "\tidf_col = {}#dictionay of each word with the idf of that word\n",
    "\t\n",
    "\t#TO DO:\n",
    "\t#1.idf_col:IDF for the collection\n",
    "\t#\tif in training phase compute it\n",
    "\t#\telse use the one provided\n",
    "\t#2. term_num_docs : count of the words in the collection\n",
    "\t#\tif in training phase populate it\n",
    "\t#\telse use the one provided\n",
    "\tif train_par:\n",
    "\t\t\n",
    "\t\t#for all documents\n",
    "\t\tfor i in range( 0,num_documents ):\n",
    "\t\t\twordList1 = clean_train_documents[i].split(None)\n",
    "\t\t\twordList2 = [string.rstrip(x.lower(), ',.!?;') for x in wordList1]\n",
    "\t\t\t#count word occurrences through the collection (for idf) put the count in term_num_docs\n",
    "\t\t\tif len(wordList2)>1:\n",
    "\t\t\t\tcountWords(wordList2,term_num_docs) #TODO: implement this function \n",
    "\t\t#TODO: calculate the idf for all words\n",
    "\t\tfor term_x in term_num_docs:\n",
    "\t\t\tidf_col[term_x] = math.log10(float(num_documents)/term_num_docs[term_x])            \n",
    "\t# for the testing set\n",
    "\telse:\n",
    "\t\t#use the existing ones if we are in the test data\n",
    "\t\tidf_col = idf_learned \n",
    "\t\tterm_num_docs=unique_words\n",
    "\n",
    "\tprint \"Creating the graph of words for each document...\"\n",
    "\ttotalNodes = 0\n",
    "\ttotalEdges = 0\n",
    "\n",
    "\t#go over all documents\n",
    "\tfor i in range( 0,num_documents ):\n",
    "\t\twordList1 = clean_train_documents[i].split(None)\n",
    "\t\twordList2 = [string.rstrip(x.lower(), ',.!?;') for x in wordList1]\n",
    "\t\tdocLen = len(wordList2)\n",
    "\t\t#the graph\n",
    "\t\tdG = nx.Graph()\n",
    "\n",
    "\t\tif len(wordList2)>1:\n",
    "\t\t\tpopulateGraph(wordList2,dG,sliding_window)\n",
    "\t\t\tdG.remove_edges_from(dG.selfloop_edges())\n",
    "\t\t\tcentrality = nx.degree_centrality(dG) #dictionary of centralities (node:degree)\n",
    "\n",
    "\t\t\ttotalNodes += dG.number_of_nodes()\n",
    "\t\t\ttotalEdges += dG.number_of_edges()\n",
    "\n",
    "\t\t\t\n",
    "\t\t\t#TODO : implement comments bellow\n",
    "\t\t\t# for all nodes\n",
    "\t\t\t\t#If they are in the desired features\n",
    "\t\t\t\t\t#compute the TW-IDF score and put it in features[i,unique_words.index(g)]\n",
    "\t\t\tfor k, node_term in enumerate(dG.nodes()):\n",
    "\t\t\t\tif node_term in idf_col:\n",
    "\t\t\t\t\tfeatures[i,unique_words.index(node_term)] = centrality[node_term] * idf_col[node_term]\n",
    "\n",
    "\tif train_par:\n",
    "\t\tnodes_ret=term_num_docs.keys()\n",
    "\t\t#print \"Percentage of features kept:\"+str(feature_reduction)\n",
    "\t\tprint \"Average number of nodes:\"+str(float(totalNodes)/num_documents)\n",
    "\t\tprint \"Average number of edges:\"+str(float(totalEdges)/num_documents)\n",
    "\telse:\n",
    "\t\tnodes_ret=term_num_docs\n",
    "\t#return 1: features, 2: idf values (for the test data), 3: the list of terms \n",
    "\treturn features, idf_col, nodes_ret"
   ]
  },
  {
   "cell_type": "code",
   "execution_count": 3,
   "metadata": {
    "collapsed": true
   },
   "outputs": [],
   "source": [
    "def populateGraph(wordList,dG,sliding_window):\n",
    "\t#TODO: implement this function\n",
    "\t#For each position/word in the word list:\n",
    "\t\t#add the -new- word in the graph\n",
    "\t\t#for all words -forward- within the window size\n",
    "\t\t\t#add new words as new nodes \n",
    "\t\t\t#add edges among all word within the window\n",
    "\tfor k, word in enumerate(wordList):\n",
    "\t\tif not dG.has_node(word):\n",
    "\t\t\tdG.add_node(word)\n",
    "\t\ttempW=sliding_window\n",
    "\t\tif k+sliding_window > len(wordList):\n",
    "\t\t\ttempW=len(wordList) - k\n",
    "\t\tfor j in xrange(1, tempW):\n",
    "\t\t\tnext_word = wordList[k+j]\n",
    "\t\t\tdG.add_edge(word, next_word)"
   ]
  },
  {
   "cell_type": "code",
   "execution_count": 4,
   "metadata": {
    "collapsed": true
   },
   "outputs": [],
   "source": [
    "def countWords(wordList,term_num_docs):\n",
    "\tfound = set()\n",
    "\t#TODO: implement this function\n",
    "\t#add the terms from the wordlist to the term_num_docs dictionary or increase its count\n",
    "\tfor k, word in enumerate(wordList):\n",
    "\t\tif word not in found:\n",
    "\t\t\tfound.add(word)\n",
    "\t\t\tif word in term_num_docs:\n",
    "\t\t\t\tterm_num_docs[word] +=1\n",
    "\t\t\telse :\n",
    "\t\t\t\tterm_num_docs[word] = 1"
   ]
  },
  {
   "cell_type": "code",
   "execution_count": 5,
   "metadata": {
    "collapsed": true
   },
   "outputs": [],
   "source": [
    "from sklearn.feature_extraction.text import TfidfVectorizer\n",
    "from sklearn import preprocessing\n",
    "import matplotlib.pyplot as plt\n",
    "from sklearn import metrics\n",
    "import pandas as pd\n",
    "import numpy as np\n",
    "from sklearn import svm\n",
    "import time\n",
    "import string\n",
    "import math\n",
    "from sklearn.metrics import roc_curve, auc"
   ]
  },
  {
   "cell_type": "code",
   "execution_count": 6,
   "metadata": {
    "collapsed": true
   },
   "outputs": [],
   "source": [
    "#function needed to convert distances to probabilities\n",
    "\n",
    "def predict_proba(X,model):\n",
    "\tf = np.vectorize(lambda x: 1/(1+np.exp(-x)))\n",
    "\traw_predictions = model.decision_function(X)\n",
    "\tplatt_predictions = f(raw_predictions)\n",
    "\tprobs = platt_predictions / platt_predictions.sum(axis=1)[:, None]\n",
    "\treturn probs"
   ]
  },
  {
   "cell_type": "code",
   "execution_count": 7,
   "metadata": {
    "collapsed": true
   },
   "outputs": [],
   "source": [
    "%matplotlib inline"
   ]
  },
  {
   "cell_type": "code",
   "execution_count": 8,
   "metadata": {
    "collapsed": true
   },
   "outputs": [],
   "source": [
    "#parameters for graph of words\n",
    "sliding_window = 2\n",
    "#a dictionary with all  the idfs (needed for the tw-idf)\n",
    "idfs = {}"
   ]
  },
  {
   "cell_type": "code",
   "execution_count": 11,
   "metadata": {
    "collapsed": false
   },
   "outputs": [
    {
     "name": "stdout",
     "output_type": "stream",
     "text": [
      "(5485, 2)\n"
     ]
    }
   ],
   "source": [
    "# the labelled training data\n",
    "cols = ['class', 'text']\n",
    "train = pd.read_csv(\"/Users/Flukmacdesof/projet-MAP-670/Graph_of_words_TD/data/r8-train-stemmed.txt\", sep=\"\\t\", header=None, names=cols)\n",
    "\n",
    "print train.shape"
   ]
  },
  {
   "cell_type": "code",
   "execution_count": 12,
   "metadata": {
    "collapsed": false
   },
   "outputs": [
    {
     "name": "stdout",
     "output_type": "stream",
     "text": [
      "Unique words:14575\n",
      "Building features...\n"
     ]
    }
   ],
   "source": [
    "# num of docs= rows\n",
    "num_documents = train.shape[0]\n",
    "\n",
    "clean_train_documents=train['text'].values\n",
    "\n",
    "#use pandas 'magic' to get a list of words from all documents and then get the set of unique words\n",
    "unique_words=list(set(train['text'].str.split(' ').apply(pd.Series,1).stack().values))\n",
    "print \"Unique words:\"+str(len(unique_words))\n",
    "\n",
    "print \"Building features...\""
   ]
  },
  {
   "cell_type": "code",
   "execution_count": 13,
   "metadata": {
    "collapsed": false
   },
   "outputs": [
    {
     "name": "stdout",
     "output_type": "stream",
     "text": [
      "Creating the graph of words for each document...\n",
      "Average number of nodes:41.1965360073\n",
      "Average number of edges:57.3998176846\n",
      "Total time to build features:\t124.891871929\n",
      "Training the classifier...\n",
      "Class correspondence\n",
      "{'earn': 0, 'money-fx': 7, 'trade': 2, 'acq': 1, 'grain': 4, 'interest': 6, 'crude': 5, 'ship': 3}\n",
      "Number of classes:8\n",
      "Total time to train classifier:\t2.99523711205\n"
     ]
    }
   ],
   "source": [
    "#tf-idf features on train data\n",
    "start = time.time()\n",
    "'''fit_transform() does two functions: First, it fits the model\n",
    "and learns the vocabulary; second, it transforms our training data\n",
    "into feature vectors. The input to fit_transform should be a list of strings.\n",
    "train_data_features = vectorizer.fit_transform(clean_train_documents)'''\n",
    "tfidf_vect = TfidfVectorizer(analyzer = \"word\",lowercase= True,norm=None )\n",
    "#features = tfidf_vect.fit_transform(clean_train_documents)\n",
    "\n",
    "#tw-idf features on train data\n",
    "features, idfs_learned, nodes= createGraphFeatures(num_documents,clean_train_documents,unique_words,sliding_window,True,idfs)\n",
    "end = time.time()\n",
    "print \"Total time to build features:\\t\"+str(end - start)\n",
    "\n",
    "print \"Training the classifier...\"\n",
    "start = time.time()\n",
    "\n",
    "\n",
    "clf = svm.LinearSVC(loss=\"hinge\")\n",
    "Y = train['class']\n",
    "#build a dictionary to assign numerical values to class labels\n",
    "class_to_num={}\n",
    "classLabels=train['class'].unique()\n",
    "\n",
    "for i,val in enumerate(classLabels):\n",
    "\tclass_to_num[val]=i\n",
    "print \"Class correspondence\"\t\n",
    "print class_to_num\n",
    "#map the values of the class to the numbers\n",
    "y=train['class'].map(class_to_num).values\n",
    "\n",
    "print \"Number of classes:\"+str(len(classLabels))\n",
    "model = clf.fit( features, y )\n",
    "end = time.time()\n",
    "print \"Total time to train classifier:\\t\"+str(end - start)\n",
    "\n",
    "##################"
   ]
  },
  {
   "cell_type": "code",
   "execution_count": 15,
   "metadata": {
    "collapsed": false
   },
   "outputs": [
    {
     "name": "stdout",
     "output_type": "stream",
     "text": [
      "(2189, 2)\n",
      "Creating features for test set\n",
      "Creating the graph of words for each document...\n",
      "             precision    recall  f1-score   support\n",
      "\n",
      "       earn     0.9899    0.9935    0.9917      1083\n",
      "        acq     0.9759    0.9871    0.9814       696\n",
      "      trade     0.9024    0.9867    0.9427        75\n",
      "       ship     0.9688    0.8611    0.9118        36\n",
      "      grain     1.0000    0.9000    0.9474        10\n",
      "      crude     0.9741    0.9339    0.9536       121\n",
      "   interest     0.9342    0.8765    0.9045        81\n",
      "   money-fx     0.9277    0.8851    0.9059        87\n",
      "\n",
      "avg / total     0.9767    0.9767    0.9765      2189\n",
      "\n"
     ]
    }
   ],
   "source": [
    "## Testing set\n",
    "test = pd.read_csv(\"/Users/Flukmacdesof/projet-MAP-670/Graph_of_words_TD/data/r8-test-stemmed.txt\", sep=\"\\t\", header=None, names=cols)\n",
    "\n",
    "print test.shape\n",
    "\n",
    "# Get the number of documents based on the data frame column size\n",
    "num_test_documents = test.shape[0]\n",
    "clean_test_documents = test['text'].values\n",
    "\n",
    "# Initialize the \"CountVectorizer\" object, which is scikit-learn's\n",
    "# bag of words tool. \n",
    "print \"Creating features for test set\"\n",
    "\n",
    "# Careful: here we use transform and not fit_transform\n",
    "#features_test = tfidf_vect.transform(clean_test_documents)\n",
    "#similar to tw-idf\n",
    "features_test,idfs,nodes = createGraphFeatures(num_test_documents,clean_test_documents,nodes,sliding_window,False,idfs_learned)\n",
    "\n",
    "\n",
    "#map the values of the class to the numbers\n",
    "y_test=test['class'].map(class_to_num).values\n",
    "lb = preprocessing.LabelBinarizer()\n",
    "lb.fit(np.arange(len(classLabels)))\n",
    "y_test_vector=lb.transform(y_test)\n",
    "pred_test = model.predict(features_test)\n",
    "\n",
    "met = metrics.classification_report(y_test, pred_test, target_names=classLabels, digits=4)\n",
    "print met\n",
    "\n",
    "probs = predict_proba(features_test,model) \n",
    "\t\n",
    "precision, recall, threshold = metrics.precision_recall_curve(y_test_vector.ravel(),probs.ravel())"
   ]
  },
  {
   "cell_type": "code",
   "execution_count": 16,
   "metadata": {
    "collapsed": false
   },
   "outputs": [
    {
     "data": {
      "image/png": "[encoded data removed]",
      "text/plain": [
       "<matplotlib.figure.Figure at 0x10bb942d0>"
      ]
     },
     "metadata": {},
     "output_type": "display_data"
    }
   ],
   "source": [
    "plt.clf()\n",
    "plt.plot(recall, precision, label='Precision-Recall curve')\n",
    "plt.xlabel('Recall')\n",
    "plt.ylabel('Precision')\n",
    "plt.ylim([0.0, 1.05])\n",
    "plt.xlim([0.0, 1.0])\n",
    "plt.title('Precision-Recall')\n",
    "plt.legend(loc=\"lower left\")\n",
    "plt.show()"
   ]
  },
  {
   "cell_type": "code",
   "execution_count": null,
   "metadata": {
    "collapsed": true
   },
   "outputs": [],
   "source": []
  }
 ],
 "metadata": {
  "kernelspec": {
   "display_name": "Python 2",
   "language": "python",
   "name": "python2"
  },
  "language_info": {
   "codemirror_mode": {
    "name": "ipython",
    "version": 2
   },
   "file_extension": ".py",
   "mimetype": "text/x-python",
   "name": "python",
   "nbconvert_exporter": "python",
   "pygments_lexer": "ipython2",
   "version": "2.7.10"
  }
 },
 "nbformat": 4,
 "nbformat_minor": 0
}
