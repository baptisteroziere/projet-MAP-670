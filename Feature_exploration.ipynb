{
 "cells": [
  {
   "cell_type": "code",
   "execution_count": 158,
   "metadata": {
    "collapsed": true
   },
   "outputs": [],
   "source": [
    "import os\n",
    "import numpy as np\n",
    "import codecs\n",
    "#assumes labelled data ra stored into a positive and negative folder\n",
    "#returns two lists one with the text per file and another with the corresponding class \n",
    "#path_baptiste = \"/home/baptiste/Documents/data/train\"\n",
    "path_sofia = \"/Users/Flukmacdesof/data 2/train\"\n",
    "\n",
    "def loadLabeled(path):\n",
    "\n",
    "\trootdirPOS =path+'/pos'\n",
    "\trootdirNEG =path+'/neg'\n",
    "\tdata=[]\n",
    "\tClass=[]\n",
    "\tcount=0\n",
    "\tfor subdir, dirs, files in os.walk(rootdirPOS):\n",
    "\t\t\n",
    "\t\tfor file in files:\n",
    "\t\t\twith codecs.open(rootdirPOS+\"/\"+file, 'r',encoding=\"utf-8\") as content_file:\n",
    "\t\t\t\tcontent = content_file.read() #assume that there are NO \"new line characters\"\n",
    "\t\t\t\tdata.append(content)\n",
    "\ttmpc1=np.ones(len(data))\n",
    "\tfor subdir, dirs, files in os.walk(rootdirNEG):\n",
    "\t\t\n",
    "\t\tfor file in files:\n",
    "\t\t\twith codecs.open(rootdirNEG+\"/\"+file, 'r',encoding=\"utf-8\") as content_file:\n",
    "\t\t\t\tcontent = content_file.read() #assume that there are NO \"new line characters\"\n",
    "\t\t\t\tdata.append(content)\n",
    "\ttmpc0=np.zeros(len(data)-len(tmpc1))\n",
    "\tClass=np.concatenate((tmpc1,tmpc0),axis=0)\n",
    "\treturn data,Class\n",
    "#loads unlabelled data\t\n",
    "#returns two lists\n",
    "#one with the data per file and another with the respective filenames (without the file extension)\n",
    "def loadUnknown(path):\n",
    "\trootdir=path\n",
    "\tdata=[]\n",
    "\tnames=[]\n",
    "\tfor subdir, dirs, files in os.walk(rootdir):\n",
    "\t\tfor file in files:\n",
    "\t\t\twith codecs.open(rootdir+\"/\"+file, 'r', encoding= \"utf-8\") as content_file:\n",
    "\t\t\t\tcontent = content_file.read() #assume that there are NO \"new line characters\"\n",
    "\t\t\t\tdata.append(content)\n",
    "\t\t\t\tnames.append(file.split(\".\")[0])\n",
    "\treturn data,names"
   ]
  },
  {
   "cell_type": "code",
   "execution_count": 159,
   "metadata": {
    "collapsed": false
   },
   "outputs": [],
   "source": [
    "data_train = loadLabeled(path_sofia)"
   ]
  },
  {
   "cell_type": "code",
   "execution_count": 3,
   "metadata": {
    "collapsed": false
   },
   "outputs": [],
   "source": [
    "excla = [0]*len(data_train[0])\n",
    "inter = [0]*len(data_train[0])\n",
    "susp = [0]*len(data_train[0])\n",
    "for i, review in enumerate(data_train[0]):\n",
    "    for char in review:\n",
    "        if char == \"?\":\n",
    "            inter[i] += 1\n",
    "        elif char == \"!\":\n",
    "            excla[i] += 1"
   ]
  },
  {
   "cell_type": "code",
   "execution_count": 4,
   "metadata": {
    "collapsed": false
   },
   "outputs": [],
   "source": [
    "from nltk.tokenize.casual import TweetTokenizer\n",
    "ttoken = TweetTokenizer(reduce_len=True)\n",
    "tokenized_reviews = []\n",
    "\n",
    "for review in data_train[0]:\n",
    "    tokenized_reviews.append(ttoken.tokenize(review))"
   ]
  },
  {
   "cell_type": "code",
   "execution_count": 5,
   "metadata": {
    "collapsed": true
   },
   "outputs": [],
   "source": [
    "for i, review in enumerate(tokenized_reviews):\n",
    "    for word in review:\n",
    "        if word == \"...\":\n",
    "            susp[i] += 1"
   ]
  },
  {
   "cell_type": "code",
   "execution_count": 6,
   "metadata": {
    "collapsed": true
   },
   "outputs": [],
   "source": [
    "import string"
   ]
  },
  {
   "cell_type": "code",
   "execution_count": 17,
   "metadata": {
    "collapsed": false
   },
   "outputs": [
    {
     "data": {
      "text/plain": [
       "<matplotlib.text.Text at 0x127362b10>"
      ]
     },
     "execution_count": 17,
     "metadata": {},
     "output_type": "execute_result"
    },
    {
     "data": {
      "image/png": "[encoded data removed]",
      "text/plain": [
       "<matplotlib.figure.Figure at 0x126512710>"
      ]
     },
     "metadata": {},
     "output_type": "display_data"
    }
   ],
   "source": [
    "import pandas as pd\n",
    "import matplotlib.pyplot as plt\n",
    "%matplotlib inline\n",
    "fig, ax = plt.subplots(nrows=1, ncols=3, figsize=(12, 4))\n",
    "ax[0].hist(excla, bins=50)[2]\n",
    "ax[1].hist(inter, bins=50)[2]\n",
    "ax[2].hist(susp, bins=50)[2]\n",
    "ax[0].set_title(\"exclamation\")\n",
    "ax[1].set_title(\"interrogation\")\n",
    "ax[2].set_title(\"suspension\")"
   ]
  },
  {
   "cell_type": "code",
   "execution_count": 9,
   "metadata": {
    "collapsed": true
   },
   "outputs": [],
   "source": [
    "u_excla = pd.unique(excla)\n",
    "u_inter = pd.unique(inter)\n",
    "u_susp = pd.unique(susp)"
   ]
  },
  {
   "cell_type": "code",
   "execution_count": 10,
   "metadata": {
    "collapsed": true
   },
   "outputs": [],
   "source": [
    "plot_excla = {}\n",
    "plot_inter = {}\n",
    "plot_susp = {}\n",
    "dicts = [\n",
    "    [np.array(plot_excla), sorted(u_excla), excla],\n",
    "    [np.array(plot_inter), sorted(u_inter), inter], \n",
    "    [np.array(plot_susp), sorted(u_susp), susp]\n",
    "]\n",
    "for dic in dicts: \n",
    "    dic[0]={key: np.mean(data_train[1][np.where(dic[2]==key)]) for key in dic[1]}"
   ]
  },
  {
   "cell_type": "code",
   "execution_count": 16,
   "metadata": {
    "collapsed": false
   },
   "outputs": [
    {
     "data": {
      "image/png": "[encoded data removed]",
      "text/plain": [
       "<matplotlib.figure.Figure at 0x1273ceb10>"
      ]
     },
     "metadata": {},
     "output_type": "display_data"
    }
   ],
   "source": [
    "titles = [\"exclamation\", \"interrogation\", \"suspension\"]\n",
    "fig, ax = plt.subplots(nrows=1, ncols=3, figsize=(12, 4))\n",
    "\n",
    "for i in range(3) :\n",
    "    ax[i].plot(*zip(*sorted(dicts[i][0].items())), marker=\"x\")\n",
    "    ax[i].set_ylim(0,1)\n",
    "    ax[i].set_title(titles[i])"
   ]
  },
  {
   "cell_type": "code",
   "execution_count": 30,
   "metadata": {
    "collapsed": false
   },
   "outputs": [],
   "source": [
    "import scipy\n",
    "loader = np.load('tw_sw1_all_train.npz')\n",
    "features_tw = scipy.sparse.csr_matrix(( loader['data'], loader['indices'], loader['indptr']),\n",
    "                     shape = loader['shape'])"
   ]
  },
  {
   "cell_type": "code",
   "execution_count": 31,
   "metadata": {
    "collapsed": false
   },
   "outputs": [],
   "source": [
    "other_feat = features_tw[:,-25:].todense()"
   ]
  },
  {
   "cell_type": "code",
   "execution_count": 36,
   "metadata": {
    "collapsed": true
   },
   "outputs": [],
   "source": [
    "import csv"
   ]
  },
  {
   "cell_type": "code",
   "execution_count": 51,
   "metadata": {
    "collapsed": false
   },
   "outputs": [],
   "source": [
    "labels = data_train[1]"
   ]
  },
  {
   "cell_type": "code",
   "execution_count": 56,
   "metadata": {
    "collapsed": true
   },
   "outputs": [],
   "source": [
    "import pandas as pd"
   ]
  },
  {
   "cell_type": "code",
   "execution_count": 95,
   "metadata": {
    "collapsed": false
   },
   "outputs": [
    {
     "data": {
      "text/plain": [
       "<matplotlib.text.Text at 0x13590f9d0>"
      ]
     },
     "execution_count": 95,
     "metadata": {},
     "output_type": "execute_result"
    },
    {
     "data": {
      "image/png": "[encoded data removed]",
      "text/plain": [
       "<matplotlib.figure.Figure at 0x13a1f4250>"
      ]
     },
     "metadata": {},
     "output_type": "display_data"
    }
   ],
   "source": [
    "fig, ax = plt.subplots(nrows=1, ncols=2, figsize=(12, 4))\n",
    "ax[0].plot(pd.Series(labels).groupby(pd.Series(np.ravel(other_feat[:,0]))).mean())\n",
    "ax[0].axhline(y=0.5, color=\"k\")\n",
    "ax[0].set_title(\"word count\")\n",
    "ax[1].plot(pd.Series(labels).groupby(pd.Series(np.ravel(other_feat[:,3]))).mean())\n",
    "ax[1].axhline(y=0.5, color=\"k\")\n",
    "ax[1].set_title(\"review length\")"
   ]
  },
  {
   "cell_type": "code",
   "execution_count": 106,
   "metadata": {
    "collapsed": false
   },
   "outputs": [
    {
     "data": {
      "text/plain": [
       "<matplotlib.text.Text at 0x13d156890>"
      ]
     },
     "execution_count": 106,
     "metadata": {},
     "output_type": "execute_result"
    },
    {
     "data": {
      "image/png": "[encoded data removed]",
      "text/plain": [
       "<matplotlib.figure.Figure at 0x13a74c210>"
      ]
     },
     "metadata": {},
     "output_type": "display_data"
    }
   ],
   "source": [
    "fig, ax = plt.subplots(nrows=1, ncols=2, figsize=(12, 4))\n",
    "ax[0].hist(other_feat[:,0], bins=100)\n",
    "ax[0].set_title(\"word count\")\n",
    "ax[1].hist(other_feat[:,3], bins=100)\n",
    "ax[1].set_title(\"review length\")"
   ]
  },
  {
   "cell_type": "code",
   "execution_count": 104,
   "metadata": {
    "collapsed": false
   },
   "outputs": [
    {
     "data": {
      "text/plain": [
       "matrix([[ 140.,    1.,    0., ...,    0.,    1.,    1.],\n",
       "        [ 424.,    0.,    1., ...,    0.,    1.,    1.],\n",
       "        [ 147.,    0.,    0., ...,    0.,    1.,    1.],\n",
       "        ..., \n",
       "        [ 289.,    3.,    1., ...,    0.,    1.,    1.],\n",
       "        [ 228.,    0.,    0., ...,    0.,    1.,    1.],\n",
       "        [ 138.,    0.,    0., ...,    0.,    1.,    1.]])"
      ]
     },
     "execution_count": 104,
     "metadata": {},
     "output_type": "execute_result"
    }
   ],
   "source": [
    "other_feat"
   ]
  },
  {
   "cell_type": "code",
   "execution_count": 107,
   "metadata": {
    "collapsed": false
   },
   "outputs": [],
   "source": [
    "# Get anything being before \" /10\" or \"over ten\" or between both\n",
    "def get_all_mentionned_grade(reviews):\n",
    "    rev_grade = []\n",
    "    for idr,review in enumerate(reviews):\n",
    "        rev_grade.append([])\n",
    "        review_split= review.split()\n",
    "\n",
    "        for idw, word in enumerate(review_split):\n",
    "            try:\n",
    "                if((word==\"on\" or word==\"over\") and idw+1<len(review_split)):\n",
    "                    if(review_split[idw+1][0:3]==\"ten\" or review_split[idw+1][0:2]==\"10\"):\n",
    "                        if(idw>0):\n",
    "                             rev_grade[idr].append(review_split[idw-1])\n",
    "            except: print review_split\n",
    "\n",
    "            for idx, char in enumerate(word):\n",
    "                    if char == '/':\n",
    "                        ten_is_there= False\n",
    "                        if(idx < len(word)-2):\n",
    "                            if word[idx+1] == '1' and word[idx+2] == '0':\n",
    "                                ten_is_there=True\n",
    "                        if(idx < len(word)-3):\n",
    "                            if word[idx+1] == 't' and word[idx+2] == 'e' and word[idx+3]==\"n\":\n",
    "                                ten_is_there=True\n",
    "                        if(idx== len(word) -1 and idw<len(review_split)-1 and len(review_split[idw+1])>1 ):\n",
    "                            if((review_split[idw+1][0]=='1' and review_split[idw+1][1]=='0') or review_split[idw+1][0:3]==\"ten\"):\n",
    "                                ten_is_there=True\n",
    "\n",
    "                        if(ten_is_there):                  \n",
    "                            if(idx)>0:\n",
    "                                rev_grade[idr].append(word[0:idx])\n",
    "                            else:\n",
    "                                if(idw>0):\n",
    "                                    rev_grade[idr].append(review_split[idw-1])\n",
    "    return rev_grade\n",
    "\n",
    "\n",
    "# Convert what have been collected to a grade. If impossible, then the grade is 5.4321\n",
    "def convert_to_real_grade(grade):\n",
    "    new_grade = 5.4321\n",
    "    \n",
    "    ### The grade is a float\n",
    "    try:\n",
    "        new_grade = float(grade)\n",
    "        return float(new_grade)\n",
    "    \n",
    "    ### The grade is not a float\n",
    "    except:\n",
    "        good = '0123465789'\n",
    "        numerical_words = {'zero':0, 'one':1, 'two':1, 'three':3, 'four':4, 'five':5, \n",
    "                           'six':6, 'seven':7, 'height':8, 'nine':9, 'ten':10}\n",
    "        \n",
    "        ## The grade has numerical values at the end \n",
    "        if grade[-1] in good:\n",
    "\n",
    "            ### Read the grade in the string\n",
    "            one_dot = False\n",
    "            g_new = ''\n",
    "            for char in reversed(grade):\n",
    "                if char in good:\n",
    "                    g_new = char + g_new\n",
    "                elif char in '.,' and one_dot == False:\n",
    "                    g_new  = '.' + g_new\n",
    "                    one_dot = True\n",
    "                else:\n",
    "                    if g_new[0] in '.,':\n",
    "                        new_grade = g_new[1:]\n",
    "                    else:\n",
    "                        new_grade = g_new\n",
    "                    \n",
    "        elif (grade[-1] not in good) and (grade.lower() in numerical_words):\n",
    "            new_grade = numerical_words[grade.lower()]\n",
    "            \n",
    "        return float(new_grade)\n",
    "    \n",
    "\n",
    "# Same as previous but in the case that the reviews mentionned many grades\n",
    "def convert_to_real_grade_2(grade):\n",
    "    final_grade = 5.4321\n",
    "    new_grades = []\n",
    "    for i in range(len(grade)):\n",
    "        new_grade = convert_to_real_grade(grade[i])\n",
    "        new_grades.append(new_grade)\n",
    "        \n",
    "    if final_grade not in new_grades:\n",
    "        ## NEXT CONDITION IS TO BE DISCUSSED\n",
    "        if np.max(new_grades) - np.min(new_grades) < 7:\n",
    "            final_grade = np.mean(new_grades)\n",
    "    return final_grade\n",
    "\n",
    "\n",
    "# Return a single grade for each review\n",
    "def creation_grade(reviews):\n",
    "    rev_grade = get_all_mentionned_grade(reviews)\n",
    "    new_rev_grade = []\n",
    "    \n",
    "    for idg, grade in enumerate(rev_grade):    \n",
    "        converted_grade = 5.4321\n",
    "\n",
    "        if grade != []:\n",
    "            if len(grade) == 1:\n",
    "                converted_grade = convert_to_real_grade(grade[0])\n",
    "            else:\n",
    "                converted_grade = convert_to_real_grade_2(grade)\n",
    "        new_rev_grade.append(converted_grade)\n",
    "        \n",
    "    return new_rev_grade\n",
    "\n",
    "# return two OneHotEncoder (Or dummies)\n",
    "# The first says if it is a good movie\n",
    "# The second says if it is a bad movie\n",
    "def creation_good_grade_bad_grade(grades):\n",
    "    good_grade = []\n",
    "    bad_grade = []\n",
    "\n",
    "    for grade in grades:\n",
    "        if float(grade) > 6.8:\n",
    "            good_grade.append(True)\n",
    "            bad_grade.append(False)\n",
    "        elif float(grade) <4.0:\n",
    "            good_grade.append(False)\n",
    "            bad_grade.append(True)\n",
    "        else:\n",
    "            good_grade.append(False)\n",
    "            bad_grade.append(False)\n",
    "            \n",
    "    return np.array([good_grade, bad_grade]).T"
   ]
  },
  {
   "cell_type": "code",
   "execution_count": 108,
   "metadata": {
    "collapsed": true
   },
   "outputs": [],
   "source": [
    "several_grades = creation_grade(data_train[0])\n",
    "grades = creation_good_grade_bad_grade(several_grades)"
   ]
  },
  {
   "cell_type": "code",
   "execution_count": 123,
   "metadata": {
    "collapsed": false
   },
   "outputs": [],
   "source": [
    "grades_pd= pd.DataFrame([[1 if bool else 0 for bool in grades[:,0]], [1 if bool else 0 for bool in grades[:,1]]], index=[\"good grade\", \"bad grade\"]).T"
   ]
  },
  {
   "cell_type": "code",
   "execution_count": 138,
   "metadata": {
    "collapsed": false
   },
   "outputs": [
    {
     "data": {
      "text/plain": [
       "<matplotlib.axes._subplots.AxesSubplot at 0x13ec267d0>"
      ]
     },
     "execution_count": 138,
     "metadata": {},
     "output_type": "execute_result"
    },
    {
     "data": {
      "image/png": "[encoded data removed]",
      "text/plain": [
       "<matplotlib.figure.Figure at 0x13cc81650>"
      ]
     },
     "metadata": {},
     "output_type": "display_data"
    }
   ],
   "source": [
    "mean_good_grades = pd.Series(labels).groupby(grades_pd[\"good grade\"]).mean()\n",
    "mean_bad_grades = pd.Series(labels).groupby(grades_pd[\"bad grade\"]).mean()\n",
    "fig, axes = plt.subplots(nrows=1, ncols=2, figsize=(12,4))\n",
    "mean_good_grades.plot(\"bar\",ax=axes[0])\n",
    "mean_bad_grades.plot(\"bar\",ax=axes[1])"
   ]
  },
  {
   "cell_type": "code",
   "execution_count": 147,
   "metadata": {
    "collapsed": false
   },
   "outputs": [
    {
     "data": {
      "text/plain": [
       "<matplotlib.axes._subplots.AxesSubplot at 0x13f8e02d0>"
      ]
     },
     "execution_count": 147,
     "metadata": {},
     "output_type": "execute_result"
    },
    {
     "data": {
      "image/png": "[encoded data removed]",
      "text/plain": [
       "<matplotlib.figure.Figure at 0x13f6e7450>"
      ]
     },
     "metadata": {},
     "output_type": "display_data"
    }
   ],
   "source": [
    "grades_pd[\"good grade\"].hist(alpha=0.5, color = \"red\")\n",
    "grades_pd[\"bad grade\"].hist(alpha=0.5, color = \"blue\")"
   ]
  },
  {
   "cell_type": "code",
   "execution_count": 149,
   "metadata": {
    "collapsed": false
   },
   "outputs": [
    {
     "data": {
      "text/plain": [
       "(good grade\n",
       " 0    0.483759\n",
       " 1    0.971188\n",
       " dtype: float64, bad grade\n",
       " 0    0.509084\n",
       " 1    0.006637\n",
       " dtype: float64)"
      ]
     },
     "execution_count": 149,
     "metadata": {},
     "output_type": "execute_result"
    }
   ],
   "source": [
    "mean_good_grades, mean_bad_grades"
   ]
  },
  {
   "cell_type": "markdown",
   "metadata": {},
   "source": [
    "Le nombre de points d'interrogation semblent corrélés avec la bonne / mauvaise opinion"
   ]
  },
  {
   "cell_type": "code",
   "execution_count": 217,
   "metadata": {
    "collapsed": true
   },
   "outputs": [],
   "source": [
    "happy = [\":-)\", \":)\", \":D\", \":o)\", \":]\", \":3\", \":c)\", \":>\", \"=]\", \"8)\", \"=)\", \":}\", \":^)\", \":-))\", \"^^\"]\n",
    "laughing = [\":-D\", \"8-D\", \"8D\", \"x-D\", \"xD\", \"X-D\", \"XD\", \"=-D\", \"=D\", \"=-3\", \"=3\", \"B^D\"]\n",
    "sad = [\">:[\", \":-(\", \":(\", \":-c\", \":c\", \":-<\", \":<\", \":-[\", \":[\", \":{\", \";(\"]\n",
    "cry = [\":'-(\", \":'(\"]\n",
    "happy_cry = [\":'-)\", \":')\"]\n",
    "horror = [\"D:<\", \"D:\", \"D8\", \"D;\", \"D=\", \"DX\", \"v.v\", \"D-':\"]\n",
    "surprised = [\">:O\", \":-O\", \":O\", \":-o\", \":o\", \"8-0\", \"O_O\", \"o-o\", \"O_o\", \"o_O\", \"o_o\", \"O-O\"]\n",
    "kiss= [\":*\", \":^*\", \"( '}{' )\"]\n",
    "wink = [\";-)\", \";)\", \"*-)\", \"*)\", \";-]\", \";]\", \";D\", \";^)\", \":-\"]\n",
    "tongue = [\">:P\", \":-P\", \":P\", \"X-P\", \"x-p\", \"xp\", \"XP\", \":-p\", \":p\", \"=p\", \":-b\", \":b\", \"d:\"]\n",
    "skeptical = [\">:\\ \".replace(\" \", \"\"), \">:/\", \":-/\", \":-.\", \":/\", \":\\ \".replace(\" \", \"\"), \"=/\", \"=\\ \".replace(\" \", \"\"), \":L\", \"=L\", \":S\", \">.<\"]\n",
    "neutral = [\":|\", \":-|\"]\n",
    "angel = [\"O:-)\", \"0:-3\", \"0:3\", \"0:-)\", \"0:)\", \"0;^)\"]\n",
    "evil = [\">:)\", \">;)\", \">:-)\", \"}:-)\", \"}:)\", \"3:-)\", \"3:)\"]\n",
    "high_five = [\"o/\\o\", \"^5\", \">_>^ ^<_<\"]\n",
    "heart = [\"<3\"]\n",
    "broken_hart = [\"</3\"]\n",
    "angry = [\":@\"]\n",
    "smiley_list = [\n",
    "happy,\n",
    "laughing,\n",
    "sad,\n",
    "cry,\n",
    "happy_cry,\n",
    "horror,\n",
    "surprised,\n",
    "kiss,\n",
    "wink,\n",
    "tongue,\n",
    "skeptical,\n",
    "neutral,\n",
    "angel,\n",
    "evil,\n",
    "high_five,\n",
    "heart,\n",
    "broken_hart, \n",
    "angry]\n",
    "smiley_names = [\n",
    "\"happy\",\n",
    "\"laughing\",\n",
    "\"sad\",\n",
    "\"cry\",\n",
    "\"happy_cry\",\n",
    "\"horror\",\n",
    "\"surprised\",\n",
    "\"kiss\",\n",
    "\"wink\",\n",
    "\"tongue\",\n",
    "\"skeptical\",\n",
    "\"neutral\",\n",
    "\"angel\",\n",
    "\"evil\",\n",
    "\"high_five\",\n",
    "\"heart\",\n",
    "\"broken_hart\", \n",
    "\"angry\"\n",
    "]"
   ]
  },
  {
   "cell_type": "code",
   "execution_count": 218,
   "metadata": {
    "collapsed": false
   },
   "outputs": [],
   "source": [
    "def gen_features_smiley(tokenized_text, smiley_list):\n",
    "    features_smiley = np.zeros((len(tokenized_text),len(smiley_list)))\n",
    "    for i, review in enumerate(tokenized_text):\n",
    "        if i % 1000 == 0:\n",
    "            print i\n",
    "        for w in review :\n",
    "            if len(w)<2 : \n",
    "                pass\n",
    "            elif len(w)>5:\n",
    "                pass\n",
    "            for j, cat in enumerate(smiley_list):\n",
    "                if w in cat:\n",
    "                    features_smiley[i,j] = 1\n",
    "    return features_smiley"
   ]
  },
  {
   "cell_type": "code",
   "execution_count": 219,
   "metadata": {
    "collapsed": false
   },
   "outputs": [
    {
     "name": "stdout",
     "output_type": "stream",
     "text": [
      "0\n",
      "1000\n",
      "2000\n",
      "3000\n",
      "4000\n",
      "5000\n",
      "6000\n",
      "7000\n",
      "8000\n",
      "9000\n",
      "10000\n",
      "11000\n",
      "12000\n",
      "13000\n",
      "14000\n",
      "15000\n",
      "16000\n",
      "17000\n",
      "18000\n",
      "19000\n",
      "20000\n",
      "21000\n",
      "22000\n",
      "23000\n",
      "24000\n"
     ]
    }
   ],
   "source": [
    "features_smiley = gen_features_smiley(tokenized_reviews, smiley_list)"
   ]
  },
  {
   "cell_type": "code",
   "execution_count": 205,
   "metadata": {
    "collapsed": false
   },
   "outputs": [
    {
     "name": "stdout",
     "output_type": "stream",
     "text": [
      "[':-)', ':)', ':D', ':o)', ':]', ':3', ':c)', ':>', '=]', '8)', '=)', ':}', ':^)', ':-))', '^^']\n",
      "[':-D', '8-D', '8D', 'x-D', 'xD', 'X-D', 'XD', '=-D', '=D', '=-3', '=3', 'B^D']\n",
      "['>:[', ':-(', ':(', ':-c', ':c', ':-<', ':<', ':-[', ':[', ':{', ';(']\n",
      "[';-)', ';)', '*-)', '*)', ';-]', ';]', ';D', ';^)', ':-']\n",
      "['>:P', ':-P', ':P', 'X-P', 'x-p', 'xp', 'XP', ':-p', ':p', '=p', ':-b', ':b', 'd:']\n"
     ]
    }
   ],
   "source": [
    "for i in np.where(np.sum(features_smiley, axis=0) >10)[0]:\n",
    "    print smiley_list[i]"
   ]
  },
  {
   "cell_type": "code",
   "execution_count": 220,
   "metadata": {
    "collapsed": false
   },
   "outputs": [],
   "source": [
    "quantity = np.sum(features_smiley, axis=0)"
   ]
  },
  {
   "cell_type": "code",
   "execution_count": 221,
   "metadata": {
    "collapsed": false
   },
   "outputs": [],
   "source": [
    "smiley_index=[np.where(features_smiley[:,i]==1) for i in range(len(smiley_names))]"
   ]
  },
  {
   "cell_type": "code",
   "execution_count": 222,
   "metadata": {
    "collapsed": false
   },
   "outputs": [
    {
     "name": "stdout",
     "output_type": "stream",
     "text": [
      "happy 0.666666666667 264.0\n",
      "laughing 0.846153846154 13.0\n",
      "sad 0.290322580645 31.0\n",
      "cry 0.5 2.0\n",
      "happy_cry nan 0.0\n",
      "horror 0.285714285714 7.0\n",
      "surprised 0.5 2.0\n",
      "kiss nan 0.0\n",
      "wink 0.542857142857 70.0\n",
      "tongue 0.526315789474 19.0\n",
      "skeptical 0.0 1.0\n",
      "neutral nan 0.0\n",
      "angel nan 0.0\n",
      "evil nan 0.0\n",
      "high_five nan 0.0\n",
      "heart 1.0 1.0\n",
      "broken_hart nan 0.0\n",
      "angry nan 0.0\n"
     ]
    }
   ],
   "source": [
    "for i, name in enumerate(smiley_names):\n",
    "    print name, np.mean(data_train[1][smiley_index[i]]), quantity[i]"
   ]
  },
  {
   "cell_type": "code",
   "execution_count": 277,
   "metadata": {
    "collapsed": true
   },
   "outputs": [],
   "source": [
    "import matplotlib as mpl"
   ]
  },
  {
   "cell_type": "code",
   "execution_count": 223,
   "metadata": {
    "collapsed": true
   },
   "outputs": [],
   "source": [
    "proba_smiley = []\n",
    "for i, name in enumerate(smiley_names):\n",
    "    proba_smiley.append(np.mean(data_train[1][smiley_index[i]]))"
   ]
  },
  {
   "cell_type": "code",
   "execution_count": null,
   "metadata": {
    "collapsed": true
   },
   "outputs": [],
   "source": [
    "fig = pyplot.figure(figsize=(8, 3))\n",
    "ax1 = fig.add_axes([0.05, 0.80, 0.9, 0.15])\n",
    "ax2 = fig.add_axes([0.05, 0.475, 0.9, 0.15])\n",
    "ax3 = fig.add_axes([0.05, 0.15, 0.9, 0.15])\n",
    "\n",
    "# Set the colormap and norm to correspond to the data for which\n",
    "# the colorbar will be used.\n",
    "cmap = mpl.cm.cool\n",
    "norm = mpl.colors.Normalize(vmin=5, vmax=10)\n",
    "\n",
    "# ColorbarBase derives from ScalarMappable and puts a colorbar\n",
    "# in a specified axes, so it has everything needed for a\n",
    "# standalone colorbar.  There are many more kwargs, but the\n",
    "# following gives a basic continuous colorbar with ticks\n",
    "# and labels.\n",
    "cb1 = mpl.colorbar.ColorbarBase(ax1, cmap=cmap,\n",
    "                                norm=norm,\n",
    "                                orientation='horizontal')"
   ]
  },
  {
   "cell_type": "code",
   "execution_count": 283,
   "metadata": {
    "collapsed": false,
    "scrolled": false
   },
   "outputs": [
    {
     "data": {
      "text/plain": [
       "([<matplotlib.axis.XTick at 0x14d4e0d50>,\n",
       "  <matplotlib.axis.XTick at 0x14d4e0a50>,\n",
       "  <matplotlib.axis.XTick at 0x14d676490>,\n",
       "  <matplotlib.axis.XTick at 0x14d6768d0>,\n",
       "  <matplotlib.axis.XTick at 0x14bdb6350>,\n",
       "  <matplotlib.axis.XTick at 0x14bdb6c10>,\n",
       "  <matplotlib.axis.XTick at 0x14bdb6a50>,\n",
       "  <matplotlib.axis.XTick at 0x14bda2650>,\n",
       "  <matplotlib.axis.XTick at 0x14bda2d90>,\n",
       "  <matplotlib.axis.XTick at 0x14bd82510>,\n",
       "  <matplotlib.axis.XTick at 0x14bd82c50>,\n",
       "  <matplotlib.axis.XTick at 0x14bdbf3d0>,\n",
       "  <matplotlib.axis.XTick at 0x14bdbfb10>,\n",
       "  <matplotlib.axis.XTick at 0x14bd94290>,\n",
       "  <matplotlib.axis.XTick at 0x14bd949d0>,\n",
       "  <matplotlib.axis.XTick at 0x14d9cc150>,\n",
       "  <matplotlib.axis.XTick at 0x14d9cc890>,\n",
       "  <matplotlib.axis.XTick at 0x14d9ccfd0>],\n",
       " <a list of 18 Text xticklabel objects>)"
      ]
     },
     "execution_count": 283,
     "metadata": {},
     "output_type": "execute_result"
    },
    {
     "data": {
      "image/png": "[encoded data removed]",
      "text/plain": [
       "<matplotlib.figure.Figure at 0x14afb3050>"
      ]
     },
     "metadata": {},
     "output_type": "display_data"
    }
   ],
   "source": [
    "fig = plt.figure(figsize=(12,4))\n",
    "colors = [str(1-(quantity[i])/max(quantity)) for i in range(len(smiley_names))]\n",
    "mpl.colors.ListedColormap(colors)\n",
    "barlist = plt.bar(left=range(len(smiley_names)), height=proba_smiley, zorder=1, edgecolor=\"k\", color=colors)\n",
    "plt.hlines(y=0.5, xmin =0, xmax=len(smiley_names), colors = \"red\", lw=3, alpha=0.8, zorder=2)\n",
    "plt.xticks(range(len(smiley_names)),smiley_names, rotation=90, fontsize=12)"
   ]
  },
  {
   "cell_type": "code",
   "execution_count": 150,
   "metadata": {
    "collapsed": true
   },
   "outputs": [],
   "source": [
    "from imdbpie import Imdb\n",
    "\n",
    "def good_and_bad_movies():\n",
    "    good_movies = {}\n",
    "    bad_movies = {}\n",
    "    \n",
    "    imdb = Imdb(anonymize = True)\n",
    "    for movie in imdb.top_250():\n",
    "        good_movies[movie['title']] = movie['rating']\n",
    "        \n",
    "    return good_movies, bad_movies\n",
    "\n",
    "def mentionned_movies(reviews):\n",
    "    good_movies, bad_movies = good_and_bad_movies()\n",
    "    wrong_titles = wrong_titles = ['M', 'Up', 'Ran']\n",
    "    \n",
    "    rev_movies = []\n",
    "    \n",
    "    for idr,review in enumerate(reviews):   \n",
    "        # Movie in the review\n",
    "        movies = []\n",
    "        for key, value in good_movies.items():\n",
    "            if key in review and key not in wrong_titles:\n",
    "                movies.append(value)\n",
    "        for key, value in bad_movies.items():\n",
    "            if key in review and key not in wrong_titles:\n",
    "                movies.append(value)\n",
    "                \n",
    "        rev_movies.append(movies)\n",
    "    \n",
    "    return rev_movies\n",
    "    \n",
    "def creation_good_bad_mentionned_movies(reviews):\n",
    "    list_mentionned_movies = mentionned_movies(reviews)\n",
    "    \n",
    "    good_movie_mentionned = []\n",
    "    bad_movie_mentionned = []\n",
    "\n",
    "    for movie in list_mentionned_movies:\n",
    "        if movie > 6.8:\n",
    "            good_movie_mentionned.append(True)\n",
    "            bad_movie_mentionned.append(False)\n",
    "        elif movie < 4.0:\n",
    "            good_movie_mentionned.append(False)\n",
    "            bad_movie_mentionned.append(True)\n",
    "        else:\n",
    "            good_movie_mentionned.append(False)\n",
    "            bad_movie_mentionned.append(False)\n",
    "            \n",
    "    return np.array([good_movie_mentionned, bad_movie_mentionned]).T"
   ]
  },
  {
   "cell_type": "code",
   "execution_count": 172,
   "metadata": {
    "collapsed": false
   },
   "outputs": [],
   "source": [
    "good_bad_movie = creation_good_bad_mentionned_movies(data_train[0])"
   ]
  },
  {
   "cell_type": "code",
   "execution_count": 178,
   "metadata": {
    "collapsed": false
   },
   "outputs": [
    {
     "data": {
      "text/plain": [
       "array([False], dtype=bool)"
      ]
     },
     "execution_count": 178,
     "metadata": {},
     "output_type": "execute_result"
    }
   ],
   "source": [
    "np.unique(good_bad_movie[:,1])"
   ]
  },
  {
   "cell_type": "code",
   "execution_count": 169,
   "metadata": {
    "collapsed": false
   },
   "outputs": [
    {
     "data": {
      "text/plain": [
       "array([True], dtype=object)"
      ]
     },
     "execution_count": 169,
     "metadata": {},
     "output_type": "execute_result"
    }
   ],
   "source": [
    "pd.Series(good_bad_movie[:,0]).unique()"
   ]
  },
  {
   "cell_type": "code",
   "execution_count": 164,
   "metadata": {
    "collapsed": false
   },
   "outputs": [],
   "source": [
    "good_movie =  pd.Series([1 if bool else 0 for bool in good_bad_movie[:,0]])"
   ]
  },
  {
   "cell_type": "code",
   "execution_count": 165,
   "metadata": {
    "collapsed": false
   },
   "outputs": [
    {
     "data": {
      "text/plain": [
       "0        1\n",
       "1        1\n",
       "2        1\n",
       "3        1\n",
       "4        1\n",
       "5        1\n",
       "6        1\n",
       "7        1\n",
       "8        1\n",
       "9        1\n",
       "10       1\n",
       "11       1\n",
       "12       1\n",
       "13       1\n",
       "14       1\n",
       "15       1\n",
       "16       1\n",
       "17       1\n",
       "18       1\n",
       "19       1\n",
       "20       1\n",
       "21       1\n",
       "22       1\n",
       "23       1\n",
       "24       1\n",
       "25       1\n",
       "26       1\n",
       "27       1\n",
       "28       1\n",
       "29       1\n",
       "        ..\n",
       "24970    1\n",
       "24971    1\n",
       "24972    1\n",
       "24973    1\n",
       "24974    1\n",
       "24975    1\n",
       "24976    1\n",
       "24977    1\n",
       "24978    1\n",
       "24979    1\n",
       "24980    1\n",
       "24981    1\n",
       "24982    1\n",
       "24983    1\n",
       "24984    1\n",
       "24985    1\n",
       "24986    1\n",
       "24987    1\n",
       "24988    1\n",
       "24989    1\n",
       "24990    1\n",
       "24991    1\n",
       "24992    1\n",
       "24993    1\n",
       "24994    1\n",
       "24995    1\n",
       "24996    1\n",
       "24997    1\n",
       "24998    1\n",
       "24999    1\n",
       "dtype: int64"
      ]
     },
     "execution_count": 165,
     "metadata": {},
     "output_type": "execute_result"
    }
   ],
   "source": [
    "good_movie"
   ]
  },
  {
   "cell_type": "code",
   "execution_count": null,
   "metadata": {
    "collapsed": true
   },
   "outputs": [],
   "source": []
  }
 ],
 "metadata": {
  "kernelspec": {
   "display_name": "Python 2",
   "language": "python",
   "name": "python2"
  },
  "language_info": {
   "codemirror_mode": {
    "name": "ipython",
    "version": 2
   },
   "file_extension": ".py",
   "mimetype": "text/x-python",
   "name": "python",
   "nbconvert_exporter": "python",
   "pygments_lexer": "ipython2",
   "version": "2.7.11"
  }
 },
 "nbformat": 4,
 "nbformat_minor": 0
}
