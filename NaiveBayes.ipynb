{
 "cells": [
  {
   "cell_type": "code",
   "execution_count": 4,
   "metadata": {
    "collapsed": false
   },
   "outputs": [],
   "source": [
    "import sklearn \n",
    "import numpy as np\n",
    "import scipy\n",
    "import csv\n",
    "\n",
    "def load_sparse_csr(filename):\n",
    "    loader = np.load(filename)\n",
    "    return scipy.sparse.csr_matrix(( loader['data'], loader['indices'], loader['indptr']),\n",
    "                     shape = loader['shape'])\n",
    "        \n",
    "def load_csv(filename):\n",
    "    with open(filename, 'r') as csvfile:\n",
    "        reader = csv.reader(csvfile, delimiter = '\\n')\n",
    "        array = [float(row[0]) for row in reader]\n",
    "        return array"
   ]
  },
  {
   "cell_type": "code",
   "execution_count": 5,
   "metadata": {
    "collapsed": false
   },
   "outputs": [],
   "source": [
    "data_train = load_sparse_csr('DB_no_cleaning/data_train_no_feat.npz')\n",
    "data_test = load_sparse_csr('DB_no_cleaning/data_test_no_feat.npz')\n",
    "\n",
    "label_train = load_csv('DB_no_cleaning/label_train_no_feat.csv')\n",
    "label_test = load_csv('DB_no_cleaning/label_test_no_feat.csv')"
   ]
  },
  {
   "cell_type": "code",
   "execution_count": 8,
   "metadata": {
    "collapsed": false
   },
   "outputs": [],
   "source": [
    "#from pyspark.mllib.classification import NaiveBayes"
   ]
  },
  {
   "cell_type": "code",
   "execution_count": 49,
   "metadata": {
    "collapsed": false
   },
   "outputs": [
    {
     "data": {
      "text/plain": [
       "'from sklearn.naive_bayes import GaussianNB\\nfrom sklearn import cross_validation\\n\\n\\n# ADD other param?\\nalg = GaussianNB()\\n#data = data_train.toarray()\\n#data = data_train.todense()\\nalg.fit(data_train, label_train)\\npredicted_label = alg.predict(data_test)\\n\\n# Take the mean of the scores (because we have one for each fold)\\nscores = cross_validation.cross_val_score(alg, data_train, label_train, cv=5)\\nprint(\"Gaussian Naive Bayes - Mean score on cross val\", scores.mean())\\nprint(\"Gaussian Naive Bayes - Score on test_data : \", score(label_test, predicted_label))'"
      ]
     },
     "execution_count": 49,
     "metadata": {},
     "output_type": "execute_result"
    }
   ],
   "source": [
    "\"\"\"from sklearn.naive_bayes import GaussianNB\n",
    "from sklearn import cross_validation\n",
    "\n",
    "\n",
    "# ADD other param?\n",
    "alg = GaussianNB()\n",
    "#data = data_train.toarray()\n",
    "#data = data_train.todense()\n",
    "alg.fit(data_train, label_train)\n",
    "predicted_label = alg.predict(data_test)\n",
    "\n",
    "# Take the mean of the scores (because we have one for each fold)\n",
    "scores = cross_validation.cross_val_score(alg, data_train, label_train, cv=5)\n",
    "print(\"Gaussian Naive Bayes - Mean score on cross val\", scores.mean())\n",
    "print(\"Gaussian Naive Bayes - Score on test_data : \", score(label_test, predicted_label))\"\"\""
   ]
  },
  {
   "cell_type": "code",
   "execution_count": 37,
   "metadata": {
    "collapsed": true
   },
   "outputs": [],
   "source": [
    "def score (a, b):\n",
    "    return 1- np.absolute(a - b).mean()"
   ]
  },
  {
   "cell_type": "code",
   "execution_count": 48,
   "metadata": {
    "collapsed": false
   },
   "outputs": [
    {
     "name": "stdout",
     "output_type": "stream",
     "text": [
      "('Gaussian Naive Bayes - Mean score on cross val', 0.83487919866305416)\n",
      "('Gaussian Naive Bayes - Score on test_data : ', 0.83455999999999997)\n",
      "('Gaussian Naive Bayes - Score on train_data : ', 0.98581333333333332)\n"
     ]
    }
   ],
   "source": [
    "from sklearn.naive_bayes import MultinomialNB\n",
    "from sklearn import cross_validation\n",
    "\n",
    "\n",
    "# ADD other param?\n",
    "alg = MultinomialNB(alpha=0.1)\n",
    "alg.fit(data_train, label_train)\n",
    "predicted_label = alg.predict(data_test)\n",
    "\n",
    "# Take the mean of the scores (because we have one for each fold)\n",
    "scores = cross_validation.cross_val_score(alg, data_train, label_train, cv=5)\n",
    "print(\"Gaussian Naive Bayes - Mean score on cross val\", scores.mean())\n",
    "print(\"Gaussian Naive Bayes - Score on test_data : \", score(predicted_label, label_test))\n",
    "print(\"Gaussian Naive Bayes - Score on train_data : \", score(alg.predict(data_train), label_train))"
   ]
  },
  {
   "cell_type": "code",
   "execution_count": 45,
   "metadata": {
    "collapsed": false
   },
   "outputs": [
    {
     "name": "stdout",
     "output_type": "stream",
     "text": [
      "('Bernouilli Naive Bayes - Mean score on cross val', 0.87551947018615484)\n",
      "('Bernouilli Naive Bayes - Score on test_data : ', 0.87263999999999997)\n",
      "('Bernouilli Naive Bayes - Score on train_data : ', 0.99936000000000003)\n"
     ]
    }
   ],
   "source": [
    "from sklearn.naive_bayes import BernoulliNB\n",
    "from sklearn import cross_validation\n",
    "\n",
    "\n",
    "# ADD other param?\n",
    "alg = BernoulliNB(alpha=0.1)\n",
    "alg.fit(data_train, label_train)\n",
    "predicted_label = alg.predict(data_test)\n",
    "\n",
    "# Take the mean of the scores (because we have one for each fold)\n",
    "scores = cross_validation.cross_val_score(alg, data_train, label_train, cv=5)\n",
    "print(\"Bernouilli Naive Bayes - Mean score on cross val\", scores.mean())\n",
    "print(\"Bernouilli Naive Bayes - Score on test_data : \", score(predicted_label, label_test))\n",
    "print(\"Bernouilli Naive Bayes - Score on train_data : \", score(alg.predict(data_train), label_train))"
   ]
  }
 ],
 "metadata": {
  "kernelspec": {
   "display_name": "Python 2",
   "language": "python",
   "name": "python2"
  },
  "language_info": {
   "codemirror_mode": {
    "name": "ipython",
    "version": 2
   },
   "file_extension": ".py",
   "mimetype": "text/x-python",
   "name": "python",
   "nbconvert_exporter": "python",
   "pygments_lexer": "ipython2",
   "version": "2.7.11"
  }
 },
 "nbformat": 4,
 "nbformat_minor": 0
}
