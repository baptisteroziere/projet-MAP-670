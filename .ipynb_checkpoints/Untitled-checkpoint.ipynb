{
 "cells": [
  {
   "cell_type": "markdown",
   "metadata": {},
   "source": [
    "# Projet Opinion Mining\n",
    "\n",
    "## NLP Pipeline\n",
    "\n",
    "#### Labeled Data\n",
    "\n",
    "\n",
    "#### Preprocessing\n",
    "- Remove Punctuation\n",
    "- Remove stop words\n",
    "- Stemming Algorithm\n",
    "(Python NLTK Library) \n",
    "\n",
    "#### Feature Extraction\n",
    "- Tf model\n",
    "- Idf model\n",
    "- TF-Idf Matrix\n",
    "\n",
    "#### Model Learning & Prediction\n",
    "- Cross validation process\n",
    "\n",
    "\n",
    "#### Evaluation\n",
    "- Precision\n",
    "- Recall"
   ]
  },
  {
   "cell_type": "code",
   "execution_count": 1,
   "metadata": {
    "collapsed": false
   },
   "outputs": [
    {
     "name": "stdout",
     "output_type": "stream",
     "text": [
      "3\n"
     ]
    }
   ],
   "source": []
  },
  {
   "cell_type": "code",
   "execution_count": null,
   "metadata": {
    "collapsed": true
   },
   "outputs": [],
   "source": []
  }
 ],
 "metadata": {
  "kernelspec": {
   "display_name": "Python 3",
   "language": "python",
   "name": "python3"
  },
  "language_info": {
   "codemirror_mode": {
    "name": "ipython",
    "version": 3
   },
   "file_extension": ".py",
   "mimetype": "text/x-python",
   "name": "python",
   "nbconvert_exporter": "python",
   "pygments_lexer": "ipython3",
   "version": "3.4.3"
  }
 },
 "nbformat": 4,
 "nbformat_minor": 0
}
